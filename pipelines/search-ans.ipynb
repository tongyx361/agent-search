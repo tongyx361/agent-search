{
 "cells": [
  {
   "cell_type": "code",
   "execution_count": 1,
   "metadata": {
    "tags": [
     "dev"
    ]
   },
   "outputs": [],
   "source": [
    "%load_ext autoreload\n",
    "%autoreload 2"
   ]
  },
  {
   "cell_type": "markdown",
   "metadata": {},
   "source": [
    "# Search answer for problems\n"
   ]
  },
  {
   "cell_type": "code",
   "execution_count": 2,
   "metadata": {},
   "outputs": [],
   "source": [
    "import argparse\n",
    "import torch\n",
    "import json\n",
    "import os\n",
    "import csv\n",
    "\n",
    "import time\n",
    "from collections import defaultdict\n",
    "from datetime import datetime\n",
    "from vllm import LLM, SamplingParams\n",
    "from transformers import set_seed\n",
    "\n",
    "from agent_search.prompt import PromptTemplate\n",
    "from agent_search.agent import VLLMPythonMathAgent, AgentSearchCfg"
   ]
  },
  {
   "cell_type": "code",
   "execution_count": 3,
   "metadata": {},
   "outputs": [],
   "source": [
    "GPU_DTYPE = torch.bfloat16\n",
    "LOCAL_GPU_MEM_GB = 80\n",
    "os.environ[\"TOKENIZERS_PARALLELISM\"] = \"false\""
   ]
  },
  {
   "cell_type": "code",
   "execution_count": 4,
   "metadata": {},
   "outputs": [],
   "source": [
    "parser = argparse.ArgumentParser(\n",
    "    description=\"Search for search strategies and hyper-parameters\", allow_abbrev=False\n",
    ")\n",
    "\n",
    "parser.add_argument(\n",
    "    \"--model_id_or_path\",\n",
    "    type=str,\n",
    "    default=\"deepseek-ai/deepseek-math-7b-rl\",\n",
    "    help=\"The HF model ID or path to the model\",\n",
    ")\n",
    "parser.add_argument(\n",
    "    \"--seed\",\n",
    "    type=int,\n",
    "    default=42,\n",
    "    help=\"The HF model ID or path to the model\",\n",
    ")\n",
    "parser.add_argument(\n",
    "    \"--gpu_mem_util\",\n",
    "    type=float,\n",
    "    default=0.9,\n",
    "    help=\"The fraction of GPU memory to use\",\n",
    ")\n",
    "parser.add_argument(\n",
    "    \"--gen_dset_fpath\",\n",
    "    type=str,\n",
    "    help=\"The path to the dataset to generate the search space from\",\n",
    ")\n",
    "\n",
    "parser.add_argument(\n",
    "    \"--temperature\",\n",
    "    type=float,\n",
    "    default=0.6,\n",
    "    help=\"The temperature to use for sampling\",\n",
    ")\n",
    "\n",
    "parser.add_argument(\n",
    "    \"--code_temperature\",\n",
    "    type=float,\n",
    "    default=0.6,\n",
    "    help=\"The temperature to use for sampling code\",\n",
    ")\n",
    "\n",
    "parser.add_argument(\n",
    "    \"--init_temperature\",\n",
    "    type=float,\n",
    "    default=1.0,\n",
    "    help=\"The temperature to use for init sampling\",\n",
    ")\n",
    "\n",
    "parser.add_argument(\n",
    "    \"--top_p\",\n",
    "    type=float,\n",
    "    default=0.95,\n",
    "    help=\"The top_p to use for sampling\",\n",
    ")\n",
    "\n",
    "parser.add_argument(\n",
    "    \"--allow_timeout\",\n",
    "    action=\"store_true\",\n",
    "    help=\"Whether to allow timeout when executing code\",\n",
    ")\n",
    "\n",
    "parser.add_argument(\n",
    "    \"--allow_err\",\n",
    "    action=\"store_true\",\n",
    "    help=\"Whether to allow errors when executing code\",\n",
    ")\n",
    "\n",
    "parser.add_argument(\n",
    "    \"--allow_empty_output\",\n",
    "    action=\"store_true\",\n",
    "    help=\"Whether to allow empty outputs when executing code\",\n",
    ")\n",
    "\n",
    "parser.add_argument(\n",
    "    \"--n_fin_ans\",\n",
    "    type=int,\n",
    "    default=8,\n",
    "    help=\"The number of answers to sample per problem\",\n",
    ")\n",
    "\n",
    "\n",
    "parser.add_argument(\n",
    "    \"--n_max_out_tok\",\n",
    "    type=int,\n",
    "    default=4096,\n",
    "    help=\"The maximum number of tokens to generate. Few completion are longer than 1024 tokens\",\n",
    ")\n",
    "\n",
    "parser.add_argument(\n",
    "    \"--n_max_tot_tok\",\n",
    "    type=int,\n",
    "    default=4096,\n",
    "    help=\"The maximum number of tokens to generate\",\n",
    ")\n",
    "\n",
    "parser.add_argument(\n",
    "    \"--n_init_gen\",\n",
    "    type=int,\n",
    "    default=1,\n",
    "    help=\"The number of init generations\",\n",
    ")\n",
    "\n",
    "parser.add_argument(\n",
    "    \"--n_init_sample\",\n",
    "    type=int,\n",
    "    default=16,\n",
    "    help=\"The number of samples when init sampling\",\n",
    ")\n",
    "\n",
    "parser.add_argument(\n",
    "    \"--n_max_sample\",\n",
    "    type=int,\n",
    "    default=1024,\n",
    "    help=\"The maximum number of samples for trial per problem\",\n",
    ")\n",
    "\n",
    "parser.add_argument(\n",
    "    \"--beam_width\",\n",
    "    type=int,\n",
    "    default=1,\n",
    "    help=\"The beam width to use for sampling\",\n",
    ")\n",
    "\n",
    "parser.add_argument(\n",
    "    \"--n_max_call\",\n",
    "    type=int,\n",
    "    default=None,\n",
    "    help=\"DeepSeekMath-7B-RL usually can not correctly solve problems with more than 2 calls\",\n",
    ")\n",
    "\n",
    "parser.add_argument(\n",
    "    \"--instr\",\n",
    "    type=str,\n",
    "    default=\"The final answer must be a non-negative integer.\",\n",
    "    # default=\"\"\"To accomplish this, first determine a sympy-based approach for solving the problem by listing each step to take and what functions need to be called in each step.\n",
    "    # Be clear so even an idiot can follow your instructions.\n",
    "    # Write the entire script covering all the steps (use comments and document it well) and print the result.\n",
    "    # The intermediary calculations may be free-form, but the final answer should always be an non-negative integer.\n",
    "    # Your final answer should always be a non-negative integer, not an algebraic expression!\n",
    "    # Your final answer should always be a non-negative integer, not an algebraic expression!\n",
    "    # Your final answer should always be a non-negative integer, not an algebraic expression!\n",
    "    # After solving the problem, output the final answer within \\\\boxed{}.\"\"\",\n",
    "    help=\"The instruction to append to the problem.\",\n",
    ")\n",
    "\n",
    "parser.add_argument(\n",
    "    \"--rag\",\n",
    "    action=\"store_true\",\n",
    "    help=\"Whether to use RAG model for generation\",\n",
    ")\n",
    "\n",
    "args, _ = parser.parse_known_args()"
   ]
  },
  {
   "cell_type": "code",
   "execution_count": 5,
   "metadata": {},
   "outputs": [],
   "source": [
    "set_seed(args.seed)"
   ]
  },
  {
   "cell_type": "code",
   "execution_count": 6,
   "metadata": {},
   "outputs": [
    {
     "name": "stdout",
     "output_type": "stream",
     "text": [
      "### Problem 0\n",
      "#### Problem\n",
      "Let $k, l > 0$ be parameters. The parabola $y = kx^2 - 2kx + l$ intersects the line $y = 4$ at two points $A$ and $B$. These points are distance 6 apart. What is the sum of the squares of the distances from $A$ and $B$ to the origin?\n",
      "#### Solution\n",
      "```python\n",
      "from sympy import symbols, solve, sqrt\n",
      "\n",
      "def sum_of_squares_of_distances():\n",
      "    \"\"\"Let $k, l > 0$ be parameters. The parabola $y = kx^2 - 2kx + l$ intersects the line $y = 4$ at two points $A$ and $B$. These points are distance 6 apart. What is the sum of the squares of the distances from $A$ and $B$ to the origin?\n",
      "\"\"\"\n",
      "    x, k, l = symbols('x k l')\n",
      "    # Equation of the parabola\n",
      "    parabola_eq = k*x**2 - 2*k*x + l - 4\n",
      "    # Solve for x when y = 4\n",
      "    x_values = solve(parabola_eq, x)\n",
      "    # Distance from A and B to the origin\n",
      "    distance_A = sqrt(x_values[0]**2 + 4**2)\n",
      "    distance_B = sqrt(x_values[1]**2 + 4**2)\n",
      "    # The sum of the squares of the distances\n",
      "    sum_of_squares = distance_A**2 + distance_B**2\n",
      "    # Substitute the condition that the distance between A and B is 6\n",
      "    sum_of_squares = sum_of_squares.subs(sqrt((x_values[1] - x_values[0])**2), 6)\n",
      "\n",
      "    return sum_of_squares\n",
      "\n",
      "result = sum_of_squares_of_distances()\n",
      "print(result)\n",
      "```\n",
      "\n",
      "```output\n",
      "32 + (k - sqrt(k*(k - l + 4)))**2/k**2 + (k + sqrt(k*(k - l + 4)))**2/k**2\n",
      "```\n",
      "\n",
      "The code seem to fail to solve the equations directly. We need to further simplify the equation.\n",
      "\n",
      "We know that the distance between $A$ and $B$ is $x_2-x_1=6$, and the Vieta's formulas give us that the sum of the roots of the equation $kx^2 - 2kx + l - 4 = 0$ is $x_1 +x_2 =-\\frac{b}{a} = -\\frac{-2k}{k} = 2$, and the product of the roots is $x_1x_2 = \\frac{c}{a} = \\frac{l - 4}{k}$. So we can use the identity $\\left(x_1 - x_2\\right)^2 = \\left(x_1 + x_2\\right)^2 - 4x_1x_2$ to find a relationship between $k$ and $l$.\n",
      "\n",
      "By substitution, we have $\\left(x_1 - x_2\\right)^{2} = - 4\\cdot\\frac{l - 4}{k} = 6^2$, which simplifies to $4 - \\frac{4l - 16}{k} = 36$, or $\\frac{4l - 16}{k} = -32$. Multiplying both sides by $k$ gives $4l - 16 = -32k$, or $4l = 16 - 32k$. Dividing both sides by 4 gives $l = 4 - 8k$.\n",
      "\n",
      "Now, we can substitute this expression for $l$ into the sum of squares of distances to get the final result.\n",
      "\n",
      "```python\n",
      "def sum_of_squares_of_distances_final():\n",
      "    \"\"\"Let $k, l > 0$ be parameters. The parabola $y = kx^2 - 2kx + l$ intersects the line $y = 4$ at two points $A$ and $B$. These points are distance 6 apart. What is the sum of the squares of the distances from $A$ and $B$ to the origin?\n",
      "\"\"\"\n",
      "    x, k = symbols('x k')\n",
      "    # Equation of the parabola with l = 4 - 8k\n",
      "    parabola_eq = k*x**2 - 2*k*x + 4 - 8*k - 4\n",
      "    # Solve for x when y = 4\n",
      "    x_values = solve(parabola_eq, x)\n",
      "    # Distance from A and B to the origin\n",
      "    distance_A = sqrt(x_values[0]**2 + 4**2)\n",
      "    distance_B = sqrt(x_values[1]**2 + 4**2)\n",
      "    # The sum of the squares of the distances\n",
      "    sum_of_squares = distance_A**2 + distance_B**2\n",
      "    # Substitute the condition that the distance between A and B is 6\n",
      "    sum_of_squares = sum_of_squares.subs(sqrt((x_values[1] - x_values[0])**2), 6)\n",
      "\n",
      "    return sum_of_squares\n",
      "\n",
      "result = sum_of_squares_of_distances_final()\n",
      "print(result)\n",
      "```\n",
      "\n",
      "```output\n",
      "52\n",
      "```\n",
      "\n",
      "So, the sum of the squares of the distances from $A$ and $B$ to the origin is $52$. The answer is $\\boxed{52}$.\n"
     ]
    }
   ],
   "source": [
    "ICL_EG_QA_MAP = {\n",
    "    \"\"\"\n",
    "Let $k, l > 0$ be parameters.\n",
    "The parabola $y = kx^2 - 2kx + l$ intersects the line $y = 4$ at two points $A$ and $B$.\n",
    "These points are distance 6 apart.\n",
    "What is the sum of the squares of the distances from $A$ and $B$ to the origin?\n",
    "    \"\"\": r'''\n",
    "```python\n",
    "from sympy import symbols, solve, sqrt\n",
    "\n",
    "def sum_of_squares_of_distances():\n",
    "    \"\"\"Let $k, l > 0$ be parameters. The parabola $y = kx^2 - 2kx + l$ intersects the line $y = 4$ at two points $A$ and $B$. These points are distance 6 apart. What is the sum of the squares of the distances from $A$ and $B$ to the origin?\n",
    "\"\"\"\n",
    "    x, k, l = symbols('x k l')\n",
    "    # Equation of the parabola\n",
    "    parabola_eq = k*x**2 - 2*k*x + l - 4\n",
    "    # Solve for x when y = 4\n",
    "    x_values = solve(parabola_eq, x)\n",
    "    # Distance from A and B to the origin\n",
    "    distance_A = sqrt(x_values[0]**2 + 4**2)\n",
    "    distance_B = sqrt(x_values[1]**2 + 4**2)\n",
    "    # The sum of the squares of the distances\n",
    "    sum_of_squares = distance_A**2 + distance_B**2\n",
    "    # Substitute the condition that the distance between A and B is 6\n",
    "    sum_of_squares = sum_of_squares.subs(sqrt((x_values[1] - x_values[0])**2), 6)\n",
    "\n",
    "    return sum_of_squares\n",
    "\n",
    "result = sum_of_squares_of_distances()\n",
    "print(result)\n",
    "```\n",
    "\n",
    "```output\n",
    "32 + (k - sqrt(k*(k - l + 4)))**2/k**2 + (k + sqrt(k*(k - l + 4)))**2/k**2\n",
    "```\n",
    "\n",
    "The code seem to fail to solve the equations directly. We need to further simplify the equation.\n",
    "\n",
    "We know that the distance between $A$ and $B$ is $x_2-x_1=6$, and the Vieta's formulas give us that the sum of the roots of the equation $kx^2 - 2kx + l - 4 = 0$ is $x_1 +x_2 =-\\frac{b}{a} = -\\frac{-2k}{k} = 2$, and the product of the roots is $x_1x_2 = \\frac{c}{a} = \\frac{l - 4}{k}$. So we can use the identity $\\left(x_1 - x_2\\right)^2 = \\left(x_1 + x_2\\right)^2 - 4x_1x_2$ to find a relationship between $k$ and $l$.\n",
    "\n",
    "By substitution, we have $\\left(x_1 - x_2\\right)^{2} = - 4\\cdot\\frac{l - 4}{k} = 6^2$, which simplifies to $4 - \\frac{4l - 16}{k} = 36$, or $\\frac{4l - 16}{k} = -32$. Multiplying both sides by $k$ gives $4l - 16 = -32k$, or $4l = 16 - 32k$. Dividing both sides by 4 gives $l = 4 - 8k$.\n",
    "\n",
    "Now, we can substitute this expression for $l$ into the sum of squares of distances to get the final result.\n",
    "\n",
    "```python\n",
    "def sum_of_squares_of_distances_final():\n",
    "    \"\"\"Let $k, l > 0$ be parameters. The parabola $y = kx^2 - 2kx + l$ intersects the line $y = 4$ at two points $A$ and $B$. These points are distance 6 apart. What is the sum of the squares of the distances from $A$ and $B$ to the origin?\n",
    "\"\"\"\n",
    "    x, k = symbols('x k')\n",
    "    # Equation of the parabola with l = 4 - 8k\n",
    "    parabola_eq = k*x**2 - 2*k*x + 4 - 8*k - 4\n",
    "    # Solve for x when y = 4\n",
    "    x_values = solve(parabola_eq, x)\n",
    "    # Distance from A and B to the origin\n",
    "    distance_A = sqrt(x_values[0]**2 + 4**2)\n",
    "    distance_B = sqrt(x_values[1]**2 + 4**2)\n",
    "    # The sum of the squares of the distances\n",
    "    sum_of_squares = distance_A**2 + distance_B**2\n",
    "    # Substitute the condition that the distance between A and B is 6\n",
    "    sum_of_squares = sum_of_squares.subs(sqrt((x_values[1] - x_values[0])**2), 6)\n",
    "\n",
    "    return sum_of_squares\n",
    "\n",
    "result = sum_of_squares_of_distances_final()\n",
    "print(result)\n",
    "```\n",
    "\n",
    "```output\n",
    "52\n",
    "```\n",
    "\n",
    "So, the sum of the squares of the distances from $A$ and $B$ to the origin is $52$. The answer is $\\boxed{52}$.\n",
    "'''\n",
    "}\n",
    "\n",
    "ICL_EG_QA_MAP = {\n",
    "    k.replace(\"\\n\", \" \").strip(): v.strip() for k, v in ICL_EG_QA_MAP.items()\n",
    "}\n",
    "for i, (q, a) in enumerate(ICL_EG_QA_MAP.items()):\n",
    "    print(f\"### Problem {i}\")\n",
    "    print(f\"#### Problem\")\n",
    "    print(q)\n",
    "    print(f\"#### Solution\")\n",
    "    print(a)"
   ]
  },
  {
   "cell_type": "code",
   "execution_count": 7,
   "metadata": {
    "tags": [
     "dev"
    ]
   },
   "outputs": [
    {
     "name": "stdout",
     "output_type": "stream",
     "text": [
      "Setting args.seed=1774139535\n"
     ]
    }
   ],
   "source": [
    "os.environ[\"CUDA_VISIBLE_DEVICES\"] = \"3\"\n",
    "\n",
    "args.gen_dset_fpath = \"/ssddata/tongyx/projects/agent-search/data/train.csv\"\n",
    "args.allow_timeout = True\n",
    "args.allow_err = True\n",
    "args.allow_empty_output = True\n",
    "args.rag = False\n",
    "args.n_max_sample = None\n",
    "args.seed = int(time.time() * 10**6) % 2**32\n",
    "print(f\"Setting {args.seed=}\")"
   ]
  },
  {
   "cell_type": "code",
   "execution_count": 8,
   "metadata": {},
   "outputs": [],
   "source": [
    "dset = []\n",
    "with open(args.gen_dset_fpath, \"r\") as f:\n",
    "    for line in csv.reader(f):\n",
    "        if line[0] == \"id\":\n",
    "            continue\n",
    "        dset.append({\"query\": line[1], \"ref_ans\": int(line[2])})"
   ]
  },
  {
   "cell_type": "code",
   "execution_count": 10,
   "metadata": {},
   "outputs": [
    {
     "name": "stdout",
     "output_type": "stream",
     "text": [
      "INFO 06-25 06:37:06 llm_engine.py:161] Initializing an LLM engine (v0.5.0.post1) with config: model='deepseek-ai/deepseek-math-7b-rl', speculative_config=None, tokenizer='deepseek-ai/deepseek-math-7b-rl', skip_tokenizer_init=False, tokenizer_mode=auto, revision=None, rope_scaling=None, rope_theta=None, tokenizer_revision=None, trust_remote_code=True, dtype=torch.bfloat16, max_seq_len=4096, download_dir=None, load_format=LoadFormat.AUTO, tensor_parallel_size=1, disable_custom_all_reduce=False, quantization=None, enforce_eager=False, kv_cache_dtype=auto, quantization_param_path=None, device_config=cuda, decoding_config=DecodingConfig(guided_decoding_backend='outlines'), seed=1774139535, served_model_name=deepseek-ai/deepseek-math-7b-rl)\n"
     ]
    },
    {
     "name": "stderr",
     "output_type": "stream",
     "text": [
      "Special tokens have been added in the vocabulary, make sure the associated word embeddings are fine-tuned or trained.\n"
     ]
    },
    {
     "name": "stdout",
     "output_type": "stream",
     "text": [
      "INFO 06-25 06:37:07 weight_utils.py:218] Using model weights format ['*.safetensors']\n",
      "INFO 06-25 06:37:10 model_runner.py:160] Loading model weights took 12.8716 GB\n",
      "INFO 06-25 06:37:11 gpu_executor.py:83] # GPU blocks: 7836, # CPU blocks: 9830\n",
      "INFO 06-25 06:38:31 model_runner.py:889] Capturing the model for CUDA graphs. This may lead to unexpected consequences if the model is not static. To run the model in eager mode, set 'enforce_eager=True' or use '--enforce-eager' in the CLI.\n",
      "INFO 06-25 06:38:31 model_runner.py:893] CUDA graphs can take additional 1~3 GiB memory per GPU. If you are running out of memory, consider decreasing `gpu_memory_utilization` or enforcing eager mode. You can also reduce the `max_num_seqs` as needed to decrease memory usage.\n",
      "INFO 06-25 06:38:40 model_runner.py:965] Graph capturing finished in 9 secs.\n"
     ]
    }
   ],
   "source": [
    "llm = LLM(\n",
    "    model=args.model_id_or_path,\n",
    "    tokenizer=args.model_id_or_path,\n",
    "    tensor_parallel_size=torch.cuda.device_count(),\n",
    "    dtype=GPU_DTYPE,\n",
    "    seed=args.seed,\n",
    "    trust_remote_code=True,\n",
    "    gpu_memory_utilization=args.gpu_mem_util,\n",
    "    swap_space=args.gpu_mem_util * LOCAL_GPU_MEM_GB,\n",
    ")"
   ]
  },
  {
   "cell_type": "code",
   "execution_count": 11,
   "metadata": {},
   "outputs": [
    {
     "name": "stdout",
     "output_type": "stream",
     "text": [
      "sampling_params=SamplingParams(n=1, best_of=1, presence_penalty=0.0, frequency_penalty=0.0, repetition_penalty=1.0, temperature=0.6, top_p=0.95, top_k=-1, min_p=0.0, seed=1774139535, use_beam_search=False, length_penalty=1.0, early_stopping=False, stop=[], stop_token_ids=[], include_stop_str_in_output=False, ignore_eos=False, max_tokens=4096, min_tokens=0, logprobs=None, prompt_logprobs=None, skip_special_tokens=True, spaces_between_special_tokens=True, truncate_prompt_tokens=None)\n",
      "search_cfg.__dict__={'sampling_params': SamplingParams(n=1, best_of=1, presence_penalty=0.0, frequency_penalty=0.0, repetition_penalty=1.0, temperature=0.6, top_p=0.95, top_k=-1, min_p=0.0, seed=1774139535, use_beam_search=False, length_penalty=1.0, early_stopping=False, stop=[], stop_token_ids=[], include_stop_str_in_output=False, ignore_eos=False, max_tokens=4096, min_tokens=0, logprobs=None, prompt_logprobs=None, skip_special_tokens=True, spaces_between_special_tokens=True, truncate_prompt_tokens=None), 'n_fin_ans': 8, 'n_init_sample': 16, 'n_max_sample': None, 'n_init_gen': 1, 'init_temperature': 1.0, 'code_temperature': 0.6, 'n_max_tot_tok': 4096, 'timeout': 5, 'n_max_call': None, 'allow_timeout': True, 'allow_err': True, 'allow_empty_output': True}\n"
     ]
    }
   ],
   "source": [
    "sampling_params = SamplingParams(\n",
    "    n=args.beam_width,\n",
    "    temperature=args.temperature,\n",
    "    top_p=args.top_p,\n",
    "    max_tokens=args.n_max_out_tok,\n",
    "    skip_special_tokens=True,\n",
    "    # prompt_logprobs=1,\n",
    "    # logprobs=0,\n",
    "    seed=args.seed,\n",
    ")\n",
    "print(f\"{sampling_params=}\")\n",
    "search_cfg = AgentSearchCfg(\n",
    "    sampling_params=sampling_params,\n",
    "    n_fin_ans=args.n_fin_ans,\n",
    "    n_init_sample=args.n_init_sample,\n",
    "    n_max_sample=args.n_max_sample,\n",
    "    n_init_gen=args.n_init_gen,\n",
    "    init_temperature=args.init_temperature,\n",
    "    code_temperature=args.code_temperature,\n",
    "    n_max_tot_tok=args.n_max_tot_tok,\n",
    "    n_max_call=args.n_max_call,\n",
    "    allow_timeout=args.allow_timeout,\n",
    "    allow_err=args.allow_err,\n",
    "    allow_empty_output=args.allow_empty_output,\n",
    ")\n",
    "print(f\"{search_cfg.__dict__=}\")\n",
    "\n",
    "\n",
    "agent = VLLMPythonMathAgent(\n",
    "    llm,\n",
    "    prompt_template=\"deepseekmath-tool\",\n",
    "    search_cfg=search_cfg,\n",
    "    code_cell_template=\"deepseekmath\",\n",
    "    rag_eg_qa_map=ICL_EG_QA_MAP if args.rag else None,\n",
    "    eq=lambda x, y: x % 1000 == y % 1000,\n",
    ")\n",
    "\n",
    "agent.ctx_template.prompt_template.prompt_after_query = (\n",
    "    \" \" + args.instr + agent.ctx_template.prompt_template.prompt_after_query\n",
    ")\n",
    "agent.ctx_template.code_cell_template.trunc_len = (100, 100)"
   ]
  },
  {
   "cell_type": "code",
   "execution_count": 12,
   "metadata": {},
   "outputs": [
    {
     "name": "stdout",
     "output_type": "stream",
     "text": [
      "### 0\n",
      "#### Problem\n",
      "Let $k, l > 0$ be parameters. The parabola $y = kx^2 - 2kx + l$ intersects the line $y = 4$ at two points $A$ and $B$. These points are distance 6 apart. What is the sum of the squares of the distances from $A$ and $B$ to the origin?\n",
      "#### Solution\n",
      "len(trajs)=1\n",
      "sampling_params.n=16\n"
     ]
    },
    {
     "name": "stderr",
     "output_type": "stream",
     "text": [
      "Processed prompts:   0%|          | 0/1 [00:00<?, ?it/s, est. speed input: 0.00 toks/s, output: 0.00 toks/s]"
     ]
    },
    {
     "name": "stderr",
     "output_type": "stream",
     "text": [
      "Processed prompts: 100%|██████████| 1/1 [00:11<00:00, 11.68s/it, est. speed input: 10.28 toks/s, output: 553.09 toks/s]"
     ]
    },
    {
     "name": "stdout",
     "output_type": "stream",
     "text": [
      "After completion,       # of trajectories: finished: 0 | dropped: 0 | continue: 16\n",
      "After single selection, # of trajectories: finished: 0 | dropped: 0 | continue: 16\n",
      "After multi-selection,  # of trajectories: finished: 0 | dropped: 0 | continue: 16\n"
     ]
    },
    {
     "name": "stderr",
     "output_type": "stream",
     "text": [
      "\n",
      "Executing: 100%|██████████| 16/16 [00:00<00:00, 23.04it/s]\n"
     ]
    },
    {
     "name": "stdout",
     "output_type": "stream",
     "text": [
      "After execution, # of trajectories: finished: 0 | dropped: 0 | continue: 16\n",
      "len(trajs)=16\n",
      "sampling_params.n=1\n"
     ]
    },
    {
     "name": "stderr",
     "output_type": "stream",
     "text": [
      "Processed prompts: 100%|██████████| 16/16 [00:51<00:00,  3.21s/it, est. speed input: 178.80 toks/s, output: 270.76 toks/s]"
     ]
    },
    {
     "name": "stdout",
     "output_type": "stream",
     "text": [
      "After completion,       # of trajectories: finished: 0 | dropped: 0 | continue: 16\n",
      "After single selection, # of trajectories: finished: 5 | dropped: 3 | continue: 8\n",
      "After multi-selection,  # of trajectories: finished: 5 | dropped: 3 | continue: 8\n"
     ]
    },
    {
     "name": "stderr",
     "output_type": "stream",
     "text": [
      "\n",
      "Executing: 100%|██████████| 8/8 [00:04<00:00,  1.83it/s]\n"
     ]
    },
    {
     "name": "stdout",
     "output_type": "stream",
     "text": [
      "After execution, # of trajectories: finished: 5 | dropped: 3 | continue: 8\n",
      "len(trajs)=8\n",
      "sampling_params.n=1\n"
     ]
    },
    {
     "name": "stderr",
     "output_type": "stream",
     "text": [
      "Processed prompts: 100%|██████████| 8/8 [00:16<00:00,  2.03s/it, est. speed input: 559.24 toks/s, output: 209.88 toks/s]"
     ]
    },
    {
     "name": "stdout",
     "output_type": "stream",
     "text": [
      "After completion,       # of trajectories: finished: 5 | dropped: 3 | continue: 8\n",
      "After single selection, # of trajectories: finished: 7 | dropped: 5 | continue: 4\n",
      "After multi-selection,  # of trajectories: finished: 7 | dropped: 5 | continue: 4\n"
     ]
    },
    {
     "name": "stderr",
     "output_type": "stream",
     "text": [
      "\n",
      "Executing: 100%|██████████| 4/4 [00:04<00:00,  1.06s/it]\n"
     ]
    },
    {
     "name": "stdout",
     "output_type": "stream",
     "text": [
      "After execution, # of trajectories: finished: 7 | dropped: 5 | continue: 4\n",
      "len(trajs)=4\n",
      "sampling_params.n=1\n"
     ]
    },
    {
     "name": "stderr",
     "output_type": "stream",
     "text": [
      "Processed prompts: 100%|██████████| 4/4 [00:09<00:00,  2.41s/it, est. speed input: 857.39 toks/s, output: 188.20 toks/s]"
     ]
    },
    {
     "name": "stdout",
     "output_type": "stream",
     "text": [
      "After completion,       # of trajectories: finished: 7 | dropped: 5 | continue: 4\n",
      "After single selection, # of trajectories: finished: 8 | dropped: 6 | continue: 2\n",
      "After multi-selection,  # of trajectories: finished: 8 | dropped: 6 | continue: 2\n"
     ]
    },
    {
     "name": "stderr",
     "output_type": "stream",
     "text": [
      "\n",
      "Executing: 100%|██████████| 2/2 [00:04<00:00,  2.10s/it]\n"
     ]
    },
    {
     "name": "stdout",
     "output_type": "stream",
     "text": [
      "After execution, # of trajectories: finished: 8 | dropped: 6 | continue: 2\n",
      "len(trajs)=2\n",
      "sampling_params.n=1\n"
     ]
    },
    {
     "name": "stderr",
     "output_type": "stream",
     "text": [
      "Processed prompts: 100%|██████████| 2/2 [00:08<00:00,  4.09s/it, est. speed input: 571.86 toks/s, output: 135.51 toks/s]"
     ]
    },
    {
     "name": "stdout",
     "output_type": "stream",
     "text": [
      "After completion,       # of trajectories: finished: 8 | dropped: 6 | continue: 2\n",
      "After single selection, # of trajectories: finished: 8 | dropped: 6 | continue: 2\n",
      "After multi-selection,  # of trajectories: finished: 8 | dropped: 6 | continue: 2\n"
     ]
    },
    {
     "name": "stderr",
     "output_type": "stream",
     "text": [
      "\n",
      "Executing: 100%|██████████| 2/2 [00:03<00:00,  1.98s/it]\n"
     ]
    },
    {
     "name": "stdout",
     "output_type": "stream",
     "text": [
      "After execution, # of trajectories: finished: 8 | dropped: 6 | continue: 2\n",
      "len(trajs)=2\n",
      "sampling_params.n=1\n"
     ]
    },
    {
     "name": "stderr",
     "output_type": "stream",
     "text": [
      "Processed prompts: 100%|██████████| 2/2 [00:08<00:00,  4.22s/it, est. speed input: 692.62 toks/s, output: 131.53 toks/s]"
     ]
    },
    {
     "name": "stdout",
     "output_type": "stream",
     "text": [
      "After completion,       # of trajectories: finished: 8 | dropped: 6 | continue: 2\n",
      "After single selection, # of trajectories: finished: 8 | dropped: 6 | continue: 2\n",
      "After multi-selection,  # of trajectories: finished: 8 | dropped: 6 | continue: 2\n"
     ]
    },
    {
     "name": "stderr",
     "output_type": "stream",
     "text": [
      "\n",
      "Executing: 100%|██████████| 2/2 [00:04<00:00,  2.01s/it]\n"
     ]
    },
    {
     "name": "stdout",
     "output_type": "stream",
     "text": [
      "After execution, # of trajectories: finished: 8 | dropped: 6 | continue: 2\n",
      "len(trajs)=2\n",
      "sampling_params.n=1\n"
     ]
    },
    {
     "name": "stderr",
     "output_type": "stream",
     "text": [
      "Processed prompts: 100%|██████████| 2/2 [00:07<00:00,  3.73s/it, est. speed input: 940.13 toks/s, output: 112.10 toks/s]"
     ]
    },
    {
     "name": "stdout",
     "output_type": "stream",
     "text": [
      "After completion,       # of trajectories: finished: 8 | dropped: 6 | continue: 2\n",
      "After single selection, # of trajectories: finished: 8 | dropped: 7 | continue: 1\n",
      "After multi-selection,  # of trajectories: finished: 8 | dropped: 7 | continue: 1\n"
     ]
    },
    {
     "name": "stderr",
     "output_type": "stream",
     "text": [
      "\n",
      "Executing: 100%|██████████| 1/1 [00:00<00:00, 1375.18it/s]\n"
     ]
    },
    {
     "name": "stdout",
     "output_type": "stream",
     "text": [
      "After execution, # of trajectories: finished: 8 | dropped: 7 | continue: 1\n",
      "len(trajs)=1\n",
      "sampling_params.n=1\n"
     ]
    },
    {
     "name": "stderr",
     "output_type": "stream",
     "text": [
      "Processed prompts: 100%|██████████| 1/1 [00:04<00:00,  4.49s/it, est. speed input: 839.43 toks/s, output: 74.51 toks/s]\n"
     ]
    },
    {
     "name": "stdout",
     "output_type": "stream",
     "text": [
      "After completion,       # of trajectories: finished: 8 | dropped: 7 | continue: 1\n",
      "After single selection, # of trajectories: finished: 8 | dropped: 8 | continue: 0\n",
      "After multi-selection,  # of trajectories: finished: 8 | dropped: 8 | continue: 0\n",
      "8 answers vote as: [(36, 2), (18, 2), (68, 1), (72, 1), (10, 1), (44, 1)] -> 36\n",
      "Ans. so far: 36\n",
      "len(trajs)=1\n",
      "sampling_params.n=16\n"
     ]
    },
    {
     "name": "stderr",
     "output_type": "stream",
     "text": [
      "Processed prompts: 100%|██████████| 1/1 [00:11<00:00, 11.71s/it, est. speed input: 10.25 toks/s, output: 551.48 toks/s]"
     ]
    },
    {
     "name": "stdout",
     "output_type": "stream",
     "text": [
      "After completion,       # of trajectories: finished: 8 | dropped: 8 | continue: 16\n",
      "After single selection, # of trajectories: finished: 8 | dropped: 8 | continue: 16\n",
      "After multi-selection,  # of trajectories: finished: 8 | dropped: 8 | continue: 16\n"
     ]
    },
    {
     "name": "stderr",
     "output_type": "stream",
     "text": [
      "\n",
      "Executing: 100%|██████████| 16/16 [00:00<00:00, 30.43it/s]\n"
     ]
    },
    {
     "name": "stdout",
     "output_type": "stream",
     "text": [
      "After execution, # of trajectories: finished: 8 | dropped: 8 | continue: 16\n",
      "len(trajs)=16\n",
      "sampling_params.n=1\n"
     ]
    },
    {
     "name": "stderr",
     "output_type": "stream",
     "text": [
      "Processed prompts: 100%|██████████| 16/16 [00:52<00:00,  3.27s/it, est. speed input: 175.89 toks/s, output: 266.35 toks/s]"
     ]
    },
    {
     "name": "stdout",
     "output_type": "stream",
     "text": [
      "After completion,       # of trajectories: finished: 8 | dropped: 8 | continue: 16\n",
      "After single selection, # of trajectories: finished: 13 | dropped: 11 | continue: 8\n",
      "After multi-selection,  # of trajectories: finished: 13 | dropped: 11 | continue: 8\n"
     ]
    },
    {
     "name": "stderr",
     "output_type": "stream",
     "text": [
      "\n",
      "Executing: 100%|██████████| 8/8 [00:04<00:00,  1.75it/s]\n"
     ]
    },
    {
     "name": "stdout",
     "output_type": "stream",
     "text": [
      "After execution, # of trajectories: finished: 13 | dropped: 11 | continue: 8\n",
      "len(trajs)=8\n",
      "sampling_params.n=1\n"
     ]
    },
    {
     "name": "stderr",
     "output_type": "stream",
     "text": [
      "Processed prompts: 100%|██████████| 8/8 [00:16<00:00,  2.11s/it, est. speed input: 538.93 toks/s, output: 202.25 toks/s]"
     ]
    },
    {
     "name": "stdout",
     "output_type": "stream",
     "text": [
      "After completion,       # of trajectories: finished: 13 | dropped: 11 | continue: 8\n",
      "After single selection, # of trajectories: finished: 15 | dropped: 13 | continue: 4\n",
      "After multi-selection,  # of trajectories: finished: 15 | dropped: 13 | continue: 4\n"
     ]
    },
    {
     "name": "stderr",
     "output_type": "stream",
     "text": [
      "\n",
      "Executing: 100%|██████████| 4/4 [00:04<00:00,  1.10s/it]\n"
     ]
    },
    {
     "name": "stdout",
     "output_type": "stream",
     "text": [
      "After execution, # of trajectories: finished: 15 | dropped: 13 | continue: 4\n",
      "len(trajs)=4\n",
      "sampling_params.n=1\n"
     ]
    },
    {
     "name": "stderr",
     "output_type": "stream",
     "text": [
      "Processed prompts: 100%|██████████| 4/4 [00:10<00:00,  2.50s/it, est. speed input: 826.08 toks/s, output: 181.33 toks/s]"
     ]
    },
    {
     "name": "stdout",
     "output_type": "stream",
     "text": [
      "After completion,       # of trajectories: finished: 15 | dropped: 13 | continue: 4\n",
      "After single selection, # of trajectories: finished: 16 | dropped: 14 | continue: 2\n",
      "After multi-selection,  # of trajectories: finished: 16 | dropped: 14 | continue: 2\n"
     ]
    },
    {
     "name": "stderr",
     "output_type": "stream",
     "text": [
      "\n",
      "Executing: 100%|██████████| 2/2 [00:04<00:00,  2.18s/it]\n"
     ]
    },
    {
     "name": "stdout",
     "output_type": "stream",
     "text": [
      "After execution, # of trajectories: finished: 16 | dropped: 14 | continue: 2\n",
      "len(trajs)=2\n",
      "sampling_params.n=1\n"
     ]
    },
    {
     "name": "stderr",
     "output_type": "stream",
     "text": [
      "Processed prompts: 100%|██████████| 2/2 [00:08<00:00,  4.17s/it, est. speed input: 560.84 toks/s, output: 132.90 toks/s]"
     ]
    },
    {
     "name": "stdout",
     "output_type": "stream",
     "text": [
      "After completion,       # of trajectories: finished: 16 | dropped: 14 | continue: 2\n",
      "After single selection, # of trajectories: finished: 16 | dropped: 14 | continue: 2\n",
      "After multi-selection,  # of trajectories: finished: 16 | dropped: 14 | continue: 2\n"
     ]
    },
    {
     "name": "stderr",
     "output_type": "stream",
     "text": [
      "\n",
      "Executing: 100%|██████████| 2/2 [00:04<00:00,  2.16s/it]\n"
     ]
    },
    {
     "name": "stdout",
     "output_type": "stream",
     "text": [
      "After execution, # of trajectories: finished: 16 | dropped: 14 | continue: 2\n",
      "len(trajs)=2\n",
      "sampling_params.n=1\n"
     ]
    },
    {
     "name": "stderr",
     "output_type": "stream",
     "text": [
      "Processed prompts: 100%|██████████| 2/2 [00:08<00:00,  4.33s/it, est. speed input: 675.41 toks/s, output: 128.26 toks/s]"
     ]
    },
    {
     "name": "stdout",
     "output_type": "stream",
     "text": [
      "After completion,       # of trajectories: finished: 16 | dropped: 14 | continue: 2\n",
      "After single selection, # of trajectories: finished: 16 | dropped: 14 | continue: 2\n",
      "After multi-selection,  # of trajectories: finished: 16 | dropped: 14 | continue: 2\n"
     ]
    },
    {
     "name": "stderr",
     "output_type": "stream",
     "text": [
      "\n",
      "Executing: 100%|██████████| 2/2 [00:04<00:00,  2.13s/it]\n"
     ]
    },
    {
     "name": "stdout",
     "output_type": "stream",
     "text": [
      "After execution, # of trajectories: finished: 16 | dropped: 14 | continue: 2\n",
      "len(trajs)=2\n",
      "sampling_params.n=1\n"
     ]
    },
    {
     "name": "stderr",
     "output_type": "stream",
     "text": [
      "Processed prompts: 100%|██████████| 2/2 [00:07<00:00,  3.84s/it, est. speed input: 914.20 toks/s, output: 109.01 toks/s]"
     ]
    },
    {
     "name": "stdout",
     "output_type": "stream",
     "text": [
      "After completion,       # of trajectories: finished: 16 | dropped: 14 | continue: 2\n",
      "After single selection, # of trajectories: finished: 16 | dropped: 15 | continue: 1\n",
      "After multi-selection,  # of trajectories: finished: 16 | dropped: 15 | continue: 1\n"
     ]
    },
    {
     "name": "stderr",
     "output_type": "stream",
     "text": [
      "\n",
      "Executing: 100%|██████████| 1/1 [00:00<00:00, 1326.47it/s]\n"
     ]
    },
    {
     "name": "stdout",
     "output_type": "stream",
     "text": [
      "After execution, # of trajectories: finished: 16 | dropped: 15 | continue: 1\n",
      "len(trajs)=1\n",
      "sampling_params.n=1\n"
     ]
    },
    {
     "name": "stderr",
     "output_type": "stream",
     "text": [
      "Processed prompts:   0%|          | 0/1 [00:00<?, ?it/s, est. speed input: 0.00 toks/s, output: 0.00 toks/s]"
     ]
    }
   ],
   "source": [
    "search_home = os.path.splitext(args.gen_dset_fpath)[0]\n",
    "search_timestamp = datetime.now().strftime(\"%Y%m%d-%H%M%S\")\n",
    "search_dir = os.path.join(search_home, f\"search-{search_timestamp}\")\n",
    "domain_correct_idxs = defaultdict(list)\n",
    "\n",
    "problem_times = []\n",
    "\n",
    "try:\n",
    "    for idx, dp in enumerate(dset):\n",
    "        search_timestamp = datetime.now().strftime(\"%Y%m%d-%H%M%S\")\n",
    "        # search_dir = os.path.join(seed_dir, f\"problem-{idx}-{search_timestamp}\")\n",
    "        search_dir = os.path.join(search_dir, f\"problem-{idx}-{search_timestamp}\")\n",
    "        print(f\"### {idx}\")\n",
    "        print(\"#### Problem\")\n",
    "        print(dp[\"query\"])\n",
    "        print(\"#### Solution\")\n",
    "        problem_start = time.time()\n",
    "        ans = agent.search(\n",
    "            init_input=dp[\"query\"], ref_ans=dp[\"ref_ans\"], output_dir=search_dir\n",
    "        )\n",
    "        problem_time = time.time() - problem_start\n",
    "        problem_times.append(problem_time)\n",
    "        mod_ref_ans = dp[\"ref_ans\"] % 1000\n",
    "        eq = (ans % 1000) == mod_ref_ans\n",
    "        if eq and \"domain\" in dp:\n",
    "            domain_correct_idxs[dp[\"domain\"]].append(idx)\n",
    "        print(\n",
    "            f\"Pred. ({ans} % 1000) {'=' if eq else '!'}= Ref. ({dp['ref_ans']} % 1000)\"\n",
    "        )\n",
    "        print(f\"Problem time: {problem_time:.2f}s\")\n",
    "        print(\n",
    "            f\"Avg. Time so far: {sum(problem_times)/len(problem_times):.2f}s (= {sum(problem_times):.2f} / {len(problem_times)})\"\n",
    "        )\n",
    "        all_correct_idxs = sum(domain_correct_idxs.values(), [])\n",
    "        print(\n",
    "            f\"Acc. so far: {len(all_correct_idxs) / (idx + 1):.2%} (= {len(all_correct_idxs)} / {idx + 1})\"\n",
    "        )\n",
    "except BaseException as e:\n",
    "    raise e\n",
    "finally:\n",
    "    all_correct_idxs = sum(domain_correct_idxs.values(), [])\n",
    "    domain_correct_cnt = {k: len(v) for k, v in domain_correct_idxs.items()}\n",
    "\n",
    "    metrics = {\n",
    "        \"search_cfg\": {\n",
    "            **{k: v for k, v in search_cfg.__dict__.items() if k != \"sampling_params\"},\n",
    "            \"sampling_params\": search_cfg.sampling_params.__repr__(),\n",
    "        },\n",
    "        \"acc\": len(all_correct_idxs) / len(dset),\n",
    "        \"domain_correct_cnt\": domain_correct_cnt,\n",
    "        \"avg_time\": sum(problem_times) / len(problem_times),\n",
    "        \"domain_correct_idxs\": domain_correct_idxs,\n",
    "        \"problem_times\": problem_times,\n",
    "    }\n",
    "\n",
    "    with open(os.path.join(search_dir, f\"metrics.json\"), \"w\") as f:\n",
    "        json.dump(metrics, f, ensure_ascii=False, indent=2)"
   ]
  }
 ],
 "metadata": {
  "kernelspec": {
   "display_name": "python3",
   "language": "python",
   "name": "python3"
  },
  "language_info": {
   "codemirror_mode": {
    "name": "ipython",
    "version": 3
   },
   "file_extension": ".py",
   "mimetype": "text/x-python",
   "name": "python",
   "nbconvert_exporter": "python",
   "pygments_lexer": "ipython3",
   "version": "3.11.9"
  }
 },
 "nbformat": 4,
 "nbformat_minor": 2
}
