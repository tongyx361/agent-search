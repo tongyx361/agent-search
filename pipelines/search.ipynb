{
 "cells": [
  {
   "cell_type": "code",
   "execution_count": 1,
   "metadata": {
    "tags": [
     "dev"
    ]
   },
   "outputs": [],
   "source": [
    "%load_ext autoreload\n",
    "%autoreload 2"
   ]
  },
  {
   "cell_type": "markdown",
   "metadata": {},
   "source": [
    "# Search for search strategies and hyper-parameters\n"
   ]
  },
  {
   "cell_type": "code",
   "execution_count": 2,
   "metadata": {},
   "outputs": [],
   "source": [
    "import argparse\n",
    "import torch\n",
    "import json\n",
    "import os\n",
    "\n",
    "import time\n",
    "from collections import defaultdict\n",
    "from datetime import datetime\n",
    "from vllm import LLM, SamplingParams\n",
    "from transformers import set_seed\n",
    "\n",
    "from agent_search.prompt import PromptTemplate\n",
    "from agent_search.agent import VLLMPythonMathAgent, AgentSearchCfg"
   ]
  },
  {
   "cell_type": "code",
   "execution_count": 3,
   "metadata": {},
   "outputs": [],
   "source": [
    "GPU_DTYPE = torch.float16\n",
    "LOCAL_GPU_MEM_GB = 80\n",
    "os.environ[\"TOKENIZERS_PARALLELISM\"] = \"false\""
   ]
  },
  {
   "cell_type": "code",
   "execution_count": 4,
   "metadata": {},
   "outputs": [],
   "source": [
    "parser = argparse.ArgumentParser(\n",
    "    description=\"Search for search strategies and hyper-parameters\", allow_abbrev=False\n",
    ")\n",
    "\n",
    "parser.add_argument(\n",
    "    \"--model_id_or_path\",\n",
    "    type=str,\n",
    "    default=\"deepseek-ai/deepseek-math-7b-rl\",\n",
    "    help=\"The HF model ID or path to the model\",\n",
    ")\n",
    "parser.add_argument(\n",
    "    \"--seed\",\n",
    "    type=int,\n",
    "    default=42,\n",
    "    help=\"The HF model ID or path to the model\",\n",
    ")\n",
    "parser.add_argument(\n",
    "    \"--gpu_mem_util\",\n",
    "    type=float,\n",
    "    default=0.9,\n",
    "    help=\"The fraction of GPU memory to use\",\n",
    ")\n",
    "parser.add_argument(\n",
    "    \"--gen_dset_fpath\",\n",
    "    type=str,\n",
    "    help=\"The path to the dataset to generate the search space from\",\n",
    ")\n",
    "\n",
    "parser.add_argument(\n",
    "    \"--temperature\",\n",
    "    type=float,\n",
    "    default=0.6,\n",
    "    help=\"The temperature to use for sampling\",\n",
    ")\n",
    "\n",
    "parser.add_argument(\n",
    "    \"--code_temperature\",\n",
    "    type=float,\n",
    "    default=0.6,\n",
    "    help=\"The temperature to use for sampling code\",\n",
    ")\n",
    "\n",
    "parser.add_argument(\n",
    "    \"--init_temperature\",\n",
    "    type=float,\n",
    "    default=1.0,\n",
    "    help=\"The temperature to use for init sampling\",\n",
    ")\n",
    "\n",
    "parser.add_argument(\n",
    "    \"--top_p\",\n",
    "    type=float,\n",
    "    default=0.95,\n",
    "    help=\"The top_p to use for sampling\",\n",
    ")\n",
    "\n",
    "parser.add_argument(\n",
    "    \"--allow_timeout\",\n",
    "    action=\"store_true\",\n",
    "    help=\"Whether to allow timeout when executing code\",\n",
    ")\n",
    "\n",
    "parser.add_argument(\n",
    "    \"--allow_err\",\n",
    "    action=\"store_true\",\n",
    "    help=\"Whether to allow errors when executing code\",\n",
    ")\n",
    "\n",
    "parser.add_argument(\n",
    "    \"--allow_empty_output\",\n",
    "    action=\"store_true\",\n",
    "    help=\"Whether to allow empty outputs when executing code\",\n",
    ")\n",
    "\n",
    "parser.add_argument(\n",
    "    \"--n_fin_ans\",\n",
    "    type=int,\n",
    "    default=8,\n",
    "    help=\"The number of answers to sample per problem\",\n",
    ")\n",
    "\n",
    "\n",
    "parser.add_argument(\n",
    "    \"--n_max_out_tok\",\n",
    "    type=int,\n",
    "    default=4096,\n",
    "    help=\"The maximum number of tokens to generate. Few completion are longer than 1024 tokens\",\n",
    ")\n",
    "\n",
    "parser.add_argument(\n",
    "    \"--n_max_tot_tok\",\n",
    "    type=int,\n",
    "    default=4096,\n",
    "    help=\"The maximum number of tokens to generate\",\n",
    ")\n",
    "\n",
    "parser.add_argument(\n",
    "    \"--n_init_gen\",\n",
    "    type=int,\n",
    "    default=1,\n",
    "    help=\"The number of init generations\",\n",
    ")\n",
    "\n",
    "parser.add_argument(\n",
    "    \"--n_init_sample\",\n",
    "    type=int,\n",
    "    default=16,\n",
    "    help=\"The number of samples when init sampling\",\n",
    ")\n",
    "\n",
    "parser.add_argument(\n",
    "    \"--n_max_sample\",\n",
    "    type=int,\n",
    "    default=1024,\n",
    "    help=\"The maximum number of samples for trial per problem\",\n",
    ")\n",
    "\n",
    "parser.add_argument(\n",
    "    \"--beam_width\",\n",
    "    type=int,\n",
    "    default=1,\n",
    "    help=\"The beam width to use for sampling\",\n",
    ")\n",
    "\n",
    "parser.add_argument(\n",
    "    \"--n_max_call\",\n",
    "    type=int,\n",
    "    default=None,\n",
    "    help=\"DeepSeekMath-7B-RL usually can not correctly solve problems with more than 2 calls\",\n",
    ")\n",
    "\n",
    "parser.add_argument(\n",
    "    \"--instr\",\n",
    "    type=str,\n",
    "    default=\"The final answer must be a non-negative integer.\",\n",
    "    # default=\"\"\"To accomplish this, first determine a sympy-based approach for solving the problem by listing each step to take and what functions need to be called in each step.\n",
    "    # Be clear so even an idiot can follow your instructions.\n",
    "    # Write the entire script covering all the steps (use comments and document it well) and print the result.\n",
    "    # The intermediary calculations may be free-form, but the final answer should always be an non-negative integer.\n",
    "    # Your final answer should always be a non-negative integer, not an algebraic expression!\n",
    "    # Your final answer should always be a non-negative integer, not an algebraic expression!\n",
    "    # Your final answer should always be a non-negative integer, not an algebraic expression!\n",
    "    # After solving the problem, output the final answer within \\\\boxed{}.\"\"\",\n",
    "    help=\"The instruction to append to the problem.\",\n",
    ")\n",
    "\n",
    "parser.add_argument(\n",
    "    \"--rag\",\n",
    "    action=\"store_true\",\n",
    "    help=\"Whether to use RAG model for generation\",\n",
    ")\n",
    "\n",
    "args, _ = parser.parse_known_args()"
   ]
  },
  {
   "cell_type": "code",
   "execution_count": 5,
   "metadata": {},
   "outputs": [],
   "source": [
    "set_seed(args.seed)"
   ]
  },
  {
   "cell_type": "code",
   "execution_count": 6,
   "metadata": {},
   "outputs": [
    {
     "name": "stdout",
     "output_type": "stream",
     "text": [
      "### Problem 0\n",
      "#### Problem\n",
      "Let $k, l > 0$ be parameters. The parabola $y = kx^2 - 2kx + l$ intersects the line $y = 4$ at two points $A$ and $B$. These points are distance 6 apart. What is the sum of the squares of the distances from $A$ and $B$ to the origin?\n",
      "#### Solution\n",
      "```python\n",
      "from sympy import symbols, solve, sqrt\n",
      "\n",
      "def sum_of_squares_of_distances():\n",
      "    \"\"\"Let $k, l > 0$ be parameters. The parabola $y = kx^2 - 2kx + l$ intersects the line $y = 4$ at two points $A$ and $B$. These points are distance 6 apart. What is the sum of the squares of the distances from $A$ and $B$ to the origin?\n",
      "\"\"\"\n",
      "    x, k, l = symbols('x k l')\n",
      "    # Equation of the parabola\n",
      "    parabola_eq = k*x**2 - 2*k*x + l - 4\n",
      "    # Solve for x when y = 4\n",
      "    x_values = solve(parabola_eq, x)\n",
      "    # Distance from A and B to the origin\n",
      "    distance_A = sqrt(x_values[0]**2 + 4**2)\n",
      "    distance_B = sqrt(x_values[1]**2 + 4**2)\n",
      "    # The sum of the squares of the distances\n",
      "    sum_of_squares = distance_A**2 + distance_B**2\n",
      "    # Substitute the condition that the distance between A and B is 6\n",
      "    sum_of_squares = sum_of_squares.subs(sqrt((x_values[1] - x_values[0])**2), 6)\n",
      "\n",
      "    return sum_of_squares\n",
      "\n",
      "result = sum_of_squares_of_distances()\n",
      "print(result)\n",
      "```\n",
      "\n",
      "```output\n",
      "32 + (k - sqrt(k*(k - l + 4)))**2/k**2 + (k + sqrt(k*(k - l + 4)))**2/k**2\n",
      "```\n",
      "\n",
      "The code seem to fail to solve the equations directly. We need to further simplify the equation.\n",
      "\n",
      "We know that the distance between $A$ and $B$ is $x_2-x_1=6$, and the Vieta's formulas give us that the sum of the roots of the equation $kx^2 - 2kx + l - 4 = 0$ is $x_1 +x_2 =-\\frac{b}{a} = -\\frac{-2k}{k} = 2$, and the product of the roots is $x_1x_2 = \\frac{c}{a} = \\frac{l - 4}{k}$. So we can use the identity $\\left(x_1 - x_2\\right)^2 = \\left(x_1 + x_2\\right)^2 - 4x_1x_2$ to find a relationship between $k$ and $l$.\n",
      "\n",
      "By substitution, we have $\\left(x_1 - x_2\\right)^{2} = - 4\\cdot\\frac{l - 4}{k} = 6^2$, which simplifies to $4 - \\frac{4l - 16}{k} = 36$, or $\\frac{4l - 16}{k} = -32$. Multiplying both sides by $k$ gives $4l - 16 = -32k$, or $4l = 16 - 32k$. Dividing both sides by 4 gives $l = 4 - 8k$.\n",
      "\n",
      "Now, we can substitute this expression for $l$ into the sum of squares of distances to get the final result.\n",
      "\n",
      "```python\n",
      "def sum_of_squares_of_distances_final():\n",
      "    \"\"\"Let $k, l > 0$ be parameters. The parabola $y = kx^2 - 2kx + l$ intersects the line $y = 4$ at two points $A$ and $B$. These points are distance 6 apart. What is the sum of the squares of the distances from $A$ and $B$ to the origin?\n",
      "\"\"\"\n",
      "    x, k = symbols('x k')\n",
      "    # Equation of the parabola with l = 4 - 8k\n",
      "    parabola_eq = k*x**2 - 2*k*x + 4 - 8*k - 4\n",
      "    # Solve for x when y = 4\n",
      "    x_values = solve(parabola_eq, x)\n",
      "    # Distance from A and B to the origin\n",
      "    distance_A = sqrt(x_values[0]**2 + 4**2)\n",
      "    distance_B = sqrt(x_values[1]**2 + 4**2)\n",
      "    # The sum of the squares of the distances\n",
      "    sum_of_squares = distance_A**2 + distance_B**2\n",
      "    # Substitute the condition that the distance between A and B is 6\n",
      "    sum_of_squares = sum_of_squares.subs(sqrt((x_values[1] - x_values[0])**2), 6)\n",
      "\n",
      "    return sum_of_squares\n",
      "\n",
      "result = sum_of_squares_of_distances_final()\n",
      "print(result)\n",
      "```\n",
      "\n",
      "```output\n",
      "52\n",
      "```\n",
      "\n",
      "So, the sum of the squares of the distances from $A$ and $B$ to the origin is $52$. The answer is $\\boxed{52}$.\n"
     ]
    }
   ],
   "source": [
    "ICL_EG_QA_MAP = {\n",
    "    \"\"\"\n",
    "Let $k, l > 0$ be parameters.\n",
    "The parabola $y = kx^2 - 2kx + l$ intersects the line $y = 4$ at two points $A$ and $B$.\n",
    "These points are distance 6 apart.\n",
    "What is the sum of the squares of the distances from $A$ and $B$ to the origin?\n",
    "    \"\"\": r'''\n",
    "```python\n",
    "from sympy import symbols, solve, sqrt\n",
    "\n",
    "def sum_of_squares_of_distances():\n",
    "    \"\"\"Let $k, l > 0$ be parameters. The parabola $y = kx^2 - 2kx + l$ intersects the line $y = 4$ at two points $A$ and $B$. These points are distance 6 apart. What is the sum of the squares of the distances from $A$ and $B$ to the origin?\n",
    "\"\"\"\n",
    "    x, k, l = symbols('x k l')\n",
    "    # Equation of the parabola\n",
    "    parabola_eq = k*x**2 - 2*k*x + l - 4\n",
    "    # Solve for x when y = 4\n",
    "    x_values = solve(parabola_eq, x)\n",
    "    # Distance from A and B to the origin\n",
    "    distance_A = sqrt(x_values[0]**2 + 4**2)\n",
    "    distance_B = sqrt(x_values[1]**2 + 4**2)\n",
    "    # The sum of the squares of the distances\n",
    "    sum_of_squares = distance_A**2 + distance_B**2\n",
    "    # Substitute the condition that the distance between A and B is 6\n",
    "    sum_of_squares = sum_of_squares.subs(sqrt((x_values[1] - x_values[0])**2), 6)\n",
    "\n",
    "    return sum_of_squares\n",
    "\n",
    "result = sum_of_squares_of_distances()\n",
    "print(result)\n",
    "```\n",
    "\n",
    "```output\n",
    "32 + (k - sqrt(k*(k - l + 4)))**2/k**2 + (k + sqrt(k*(k - l + 4)))**2/k**2\n",
    "```\n",
    "\n",
    "The code seem to fail to solve the equations directly. We need to further simplify the equation.\n",
    "\n",
    "We know that the distance between $A$ and $B$ is $x_2-x_1=6$, and the Vieta's formulas give us that the sum of the roots of the equation $kx^2 - 2kx + l - 4 = 0$ is $x_1 +x_2 =-\\frac{b}{a} = -\\frac{-2k}{k} = 2$, and the product of the roots is $x_1x_2 = \\frac{c}{a} = \\frac{l - 4}{k}$. So we can use the identity $\\left(x_1 - x_2\\right)^2 = \\left(x_1 + x_2\\right)^2 - 4x_1x_2$ to find a relationship between $k$ and $l$.\n",
    "\n",
    "By substitution, we have $\\left(x_1 - x_2\\right)^{2} = - 4\\cdot\\frac{l - 4}{k} = 6^2$, which simplifies to $4 - \\frac{4l - 16}{k} = 36$, or $\\frac{4l - 16}{k} = -32$. Multiplying both sides by $k$ gives $4l - 16 = -32k$, or $4l = 16 - 32k$. Dividing both sides by 4 gives $l = 4 - 8k$.\n",
    "\n",
    "Now, we can substitute this expression for $l$ into the sum of squares of distances to get the final result.\n",
    "\n",
    "```python\n",
    "def sum_of_squares_of_distances_final():\n",
    "    \"\"\"Let $k, l > 0$ be parameters. The parabola $y = kx^2 - 2kx + l$ intersects the line $y = 4$ at two points $A$ and $B$. These points are distance 6 apart. What is the sum of the squares of the distances from $A$ and $B$ to the origin?\n",
    "\"\"\"\n",
    "    x, k = symbols('x k')\n",
    "    # Equation of the parabola with l = 4 - 8k\n",
    "    parabola_eq = k*x**2 - 2*k*x + 4 - 8*k - 4\n",
    "    # Solve for x when y = 4\n",
    "    x_values = solve(parabola_eq, x)\n",
    "    # Distance from A and B to the origin\n",
    "    distance_A = sqrt(x_values[0]**2 + 4**2)\n",
    "    distance_B = sqrt(x_values[1]**2 + 4**2)\n",
    "    # The sum of the squares of the distances\n",
    "    sum_of_squares = distance_A**2 + distance_B**2\n",
    "    # Substitute the condition that the distance between A and B is 6\n",
    "    sum_of_squares = sum_of_squares.subs(sqrt((x_values[1] - x_values[0])**2), 6)\n",
    "\n",
    "    return sum_of_squares\n",
    "\n",
    "result = sum_of_squares_of_distances_final()\n",
    "print(result)\n",
    "```\n",
    "\n",
    "```output\n",
    "52\n",
    "```\n",
    "\n",
    "So, the sum of the squares of the distances from $A$ and $B$ to the origin is $52$. The answer is $\\boxed{52}$.\n",
    "'''\n",
    "}\n",
    "\n",
    "ICL_EG_QA_MAP = {\n",
    "    k.replace(\"\\n\", \" \").strip(): v.strip() for k, v in ICL_EG_QA_MAP.items()\n",
    "}\n",
    "for i, (q, a) in enumerate(ICL_EG_QA_MAP.items()):\n",
    "    print(f\"### Problem {i}\")\n",
    "    print(f\"#### Problem\")\n",
    "    print(q)\n",
    "    print(f\"#### Solution\")\n",
    "    print(a)"
   ]
  },
  {
   "cell_type": "code",
   "execution_count": 7,
   "metadata": {
    "tags": [
     "dev"
    ]
   },
   "outputs": [],
   "source": [
    "os.environ[\"CUDA_VISIBLE_DEVICES\"] = \"2\"\n",
    "\n",
    "args.gen_dset_fpath = (\n",
    "    \"/ssddata/tongyx/projects/agent-search/data/iid_hardest_non_neg_int_ans_math.json\"\n",
    ")\n",
    "args.allow_timeout = True\n",
    "args.allow_err = True\n",
    "args.allow_empty_output = True\n",
    "\n",
    "args.rag = True"
   ]
  },
  {
   "cell_type": "code",
   "execution_count": 8,
   "metadata": {},
   "outputs": [
    {
     "name": "stderr",
     "output_type": "stream",
     "text": [
      "/ssddata/tongyx/miniconda3/envs/agent-search/lib/python3.11/site-packages/huggingface_hub/file_download.py:1132: FutureWarning: `resume_download` is deprecated and will be removed in version 1.0.0. Downloads always resume when possible. If you want to force a new download, use `force_download=True`.\n",
      "  warnings.warn(\n"
     ]
    },
    {
     "name": "stdout",
     "output_type": "stream",
     "text": [
      "WARNING 06-25 06:35:23 config.py:1222] Casting torch.bfloat16 to torch.float16.\n",
      "INFO 06-25 06:35:23 llm_engine.py:161] Initializing an LLM engine (v0.5.0.post1) with config: model='deepseek-ai/deepseek-math-7b-rl', speculative_config=None, tokenizer='deepseek-ai/deepseek-math-7b-rl', skip_tokenizer_init=False, tokenizer_mode=auto, revision=None, rope_scaling=None, rope_theta=None, tokenizer_revision=None, trust_remote_code=True, dtype=torch.float16, max_seq_len=4096, download_dir=None, load_format=LoadFormat.AUTO, tensor_parallel_size=1, disable_custom_all_reduce=False, quantization=None, enforce_eager=False, kv_cache_dtype=auto, quantization_param_path=None, device_config=cuda, decoding_config=DecodingConfig(guided_decoding_backend='outlines'), seed=42, served_model_name=deepseek-ai/deepseek-math-7b-rl)\n"
     ]
    },
    {
     "name": "stderr",
     "output_type": "stream",
     "text": [
      "Special tokens have been added in the vocabulary, make sure the associated word embeddings are fine-tuned or trained.\n"
     ]
    },
    {
     "name": "stdout",
     "output_type": "stream",
     "text": [
      "INFO 06-25 06:35:42 weight_utils.py:218] Using model weights format ['*.safetensors']\n",
      "INFO 06-25 06:35:48 model_runner.py:160] Loading model weights took 12.8725 GB\n",
      "INFO 06-25 06:35:48 gpu_executor.py:83] # GPU blocks: 7826, # CPU blocks: 9830\n",
      "INFO 06-25 06:37:29 model_runner.py:889] Capturing the model for CUDA graphs. This may lead to unexpected consequences if the model is not static. To run the model in eager mode, set 'enforce_eager=True' or use '--enforce-eager' in the CLI.\n",
      "INFO 06-25 06:37:29 model_runner.py:893] CUDA graphs can take additional 1~3 GiB memory per GPU. If you are running out of memory, consider decreasing `gpu_memory_utilization` or enforcing eager mode. You can also reduce the `max_num_seqs` as needed to decrease memory usage.\n",
      "INFO 06-25 06:37:38 model_runner.py:965] Graph capturing finished in 9 secs.\n"
     ]
    }
   ],
   "source": [
    "llm = LLM(\n",
    "    model=args.model_id_or_path,\n",
    "    tokenizer=args.model_id_or_path,\n",
    "    tensor_parallel_size=torch.cuda.device_count(),\n",
    "    dtype=GPU_DTYPE,\n",
    "    seed=args.seed,\n",
    "    trust_remote_code=True,\n",
    "    gpu_memory_utilization=args.gpu_mem_util,\n",
    "    swap_space=args.gpu_mem_util * LOCAL_GPU_MEM_GB,\n",
    ")"
   ]
  },
  {
   "cell_type": "code",
   "execution_count": 9,
   "metadata": {},
   "outputs": [
    {
     "name": "stdout",
     "output_type": "stream",
     "text": [
      "Loaded dataset with 151 problems\n"
     ]
    }
   ],
   "source": [
    "with open(args.gen_dset_fpath, \"r\") as f:\n",
    "    dset = json.load(f)\n",
    "print(f\"Loaded dataset with {len(dset)} problems\")"
   ]
  },
  {
   "cell_type": "code",
   "execution_count": 10,
   "metadata": {},
   "outputs": [
    {
     "name": "stdout",
     "output_type": "stream",
     "text": [
      "sampling_params=SamplingParams(n=1, best_of=1, presence_penalty=0.0, frequency_penalty=0.0, repetition_penalty=1.0, temperature=0.6, top_p=0.95, top_k=-1, min_p=0.0, seed=42, use_beam_search=False, length_penalty=1.0, early_stopping=False, stop=[], stop_token_ids=[], include_stop_str_in_output=False, ignore_eos=False, max_tokens=4096, min_tokens=0, logprobs=None, prompt_logprobs=None, skip_special_tokens=True, spaces_between_special_tokens=True, truncate_prompt_tokens=None)\n",
      "search_cfg.__dict__={'sampling_params': SamplingParams(n=1, best_of=1, presence_penalty=0.0, frequency_penalty=0.0, repetition_penalty=1.0, temperature=0.6, top_p=0.95, top_k=-1, min_p=0.0, seed=42, use_beam_search=False, length_penalty=1.0, early_stopping=False, stop=[], stop_token_ids=[], include_stop_str_in_output=False, ignore_eos=False, max_tokens=4096, min_tokens=0, logprobs=None, prompt_logprobs=None, skip_special_tokens=True, spaces_between_special_tokens=True, truncate_prompt_tokens=None), 'n_fin_ans': 8, 'n_init_sample': 16, 'n_max_sample': 1024, 'n_init_gen': 1, 'init_temperature': 1.0, 'code_temperature': 0.6, 'n_max_tot_tok': 4096, 'timeout': 5, 'n_max_call': None, 'allow_timeout': True, 'allow_err': True, 'allow_empty_output': True}\n"
     ]
    }
   ],
   "source": [
    "sampling_params = SamplingParams(\n",
    "    n=args.beam_width,\n",
    "    temperature=args.temperature,\n",
    "    top_p=args.top_p,\n",
    "    max_tokens=args.n_max_out_tok,\n",
    "    skip_special_tokens=True,\n",
    "    # prompt_logprobs=1,\n",
    "    # logprobs=0,\n",
    "    seed=args.seed,\n",
    ")\n",
    "print(f\"{sampling_params=}\")\n",
    "search_cfg = AgentSearchCfg(\n",
    "    sampling_params=sampling_params,\n",
    "    n_fin_ans=args.n_fin_ans,\n",
    "    n_init_sample=args.n_init_sample,\n",
    "    n_max_sample=args.n_max_sample,\n",
    "    n_init_gen=args.n_init_gen,\n",
    "    init_temperature=args.init_temperature,\n",
    "    code_temperature=args.code_temperature,\n",
    "    n_max_tot_tok=args.n_max_tot_tok,\n",
    "    n_max_call=args.n_max_call,\n",
    "    allow_timeout=args.allow_timeout,\n",
    "    allow_err=args.allow_err,\n",
    "    allow_empty_output=args.allow_empty_output,\n",
    ")\n",
    "print(f\"{search_cfg.__dict__=}\")\n",
    "\n",
    "\n",
    "agent = VLLMPythonMathAgent(\n",
    "    llm,\n",
    "    prompt_template=\"deepseekmath-tool\",\n",
    "    search_cfg=search_cfg,\n",
    "    code_cell_template=\"deepseekmath\",\n",
    "    rag_eg_qa_map=ICL_EG_QA_MAP if args.rag else None,\n",
    "    eq=lambda x, y: x % 1000 == y % 1000,\n",
    ")\n",
    "\n",
    "agent.ctx_template.prompt_template.prompt_after_query = (\n",
    "    \" \" + args.instr + agent.ctx_template.prompt_template.prompt_after_query\n",
    ")"
   ]
  },
  {
   "cell_type": "code",
   "execution_count": 11,
   "metadata": {},
   "outputs": [
    {
     "name": "stdout",
     "output_type": "stream",
     "text": [
      "### 0\n",
      "#### Problem\n",
      "When the expression $-2x^2-20x-53$ is written in the form $a(x+d)^2+e$, where $a$, $d$, and $e$ are constants, what is the sum $a+d+e$?\n",
      "#### Solution\n",
      "len(trajs)=1\n",
      "sampling_params.n=16\n"
     ]
    },
    {
     "name": "stderr",
     "output_type": "stream",
     "text": [
      "Processed prompts: 100%|██████████| 1/1 [00:04<00:00,  4.95s/it, est. speed input: 282.72 toks/s, output: 766.66 toks/s]"
     ]
    },
    {
     "name": "stdout",
     "output_type": "stream",
     "text": [
      "After completion,       # of trajectories: finished: 0 | dropped: 0 | continue: 16\n",
      "After single selection, # of trajectories: finished: 0 | dropped: 0 | continue: 16\n",
      "After multi-selection,  # of trajectories: finished: 0 | dropped: 0 | continue: 16\n"
     ]
    },
    {
     "name": "stderr",
     "output_type": "stream",
     "text": [
      "\n",
      "Executing: 100%|██████████| 16/16 [00:00<00:00, 29.97it/s]\n"
     ]
    },
    {
     "name": "stdout",
     "output_type": "stream",
     "text": [
      "After execution, # of trajectories: finished: 0 | dropped: 0 | continue: 16\n",
      "len(trajs)=16\n",
      "sampling_params.n=1\n"
     ]
    },
    {
     "name": "stderr",
     "output_type": "stream",
     "text": [
      "Processed prompts: 100%|██████████| 16/16 [00:11<00:00,  1.39it/s, est. speed input: 2304.84 toks/s, output: 479.18 toks/s]"
     ]
    },
    {
     "name": "stdout",
     "output_type": "stream",
     "text": [
      "After completion,       # of trajectories: finished: 0 | dropped: 0 | continue: 16\n",
      "After single selection, # of trajectories: finished: 0 | dropped: 1 | continue: 15\n",
      "After multi-selection,  # of trajectories: finished: 0 | dropped: 1 | continue: 15\n"
     ]
    },
    {
     "name": "stderr",
     "output_type": "stream",
     "text": [
      "\n",
      "Executing: 100%|██████████| 15/15 [00:00<00:00, 34.71it/s]\n"
     ]
    },
    {
     "name": "stdout",
     "output_type": "stream",
     "text": [
      "After execution, # of trajectories: finished: 0 | dropped: 1 | continue: 15\n",
      "len(trajs)=15\n",
      "sampling_params.n=1\n"
     ]
    },
    {
     "name": "stderr",
     "output_type": "stream",
     "text": [
      "Processed prompts: 100%|██████████| 15/15 [00:11<00:00,  1.29it/s, est. speed input: 2613.03 toks/s, output: 431.05 toks/s]"
     ]
    },
    {
     "name": "stdout",
     "output_type": "stream",
     "text": [
      "After completion,       # of trajectories: finished: 0 | dropped: 1 | continue: 15\n",
      "After single selection, # of trajectories: finished: 0 | dropped: 1 | continue: 15\n",
      "After multi-selection,  # of trajectories: finished: 0 | dropped: 1 | continue: 15\n"
     ]
    },
    {
     "name": "stderr",
     "output_type": "stream",
     "text": [
      "\n",
      "Executing: 100%|██████████| 15/15 [00:00<00:00, 25.12it/s]\n"
     ]
    },
    {
     "name": "stdout",
     "output_type": "stream",
     "text": [
      "After execution, # of trajectories: finished: 0 | dropped: 1 | continue: 15\n",
      "len(trajs)=15\n",
      "sampling_params.n=1\n"
     ]
    },
    {
     "name": "stderr",
     "output_type": "stream",
     "text": [
      "Processed prompts: 100%|██████████| 15/15 [00:12<00:00,  1.18it/s, est. speed input: 2793.37 toks/s, output: 401.43 toks/s]"
     ]
    },
    {
     "name": "stdout",
     "output_type": "stream",
     "text": [
      "After completion,       # of trajectories: finished: 0 | dropped: 1 | continue: 15\n",
      "After single selection, # of trajectories: finished: 0 | dropped: 1 | continue: 15\n",
      "After multi-selection,  # of trajectories: finished: 0 | dropped: 1 | continue: 15\n"
     ]
    },
    {
     "name": "stderr",
     "output_type": "stream",
     "text": [
      "\n",
      "Executing: 100%|██████████| 15/15 [00:00<00:00, 23.35it/s]\n"
     ]
    },
    {
     "name": "stdout",
     "output_type": "stream",
     "text": [
      "After execution, # of trajectories: finished: 0 | dropped: 1 | continue: 15\n",
      "len(trajs)=15\n",
      "sampling_params.n=1\n"
     ]
    },
    {
     "name": "stderr",
     "output_type": "stream",
     "text": [
      "Processed prompts: 100%|██████████| 15/15 [00:13<00:00,  1.11it/s, est. speed input: 3034.80 toks/s, output: 365.98 toks/s]"
     ]
    },
    {
     "name": "stdout",
     "output_type": "stream",
     "text": [
      "After completion,       # of trajectories: finished: 0 | dropped: 1 | continue: 15\n",
      "After single selection, # of trajectories: finished: 0 | dropped: 1 | continue: 15\n",
      "After multi-selection,  # of trajectories: finished: 0 | dropped: 1 | continue: 15\n"
     ]
    },
    {
     "name": "stderr",
     "output_type": "stream",
     "text": [
      "\n",
      "Executing: 100%|██████████| 15/15 [00:00<00:00, 19.19it/s]\n"
     ]
    },
    {
     "name": "stdout",
     "output_type": "stream",
     "text": [
      "After execution, # of trajectories: finished: 0 | dropped: 1 | continue: 15\n",
      "len(trajs)=15\n",
      "sampling_params.n=1\n"
     ]
    },
    {
     "name": "stderr",
     "output_type": "stream",
     "text": [
      "Processed prompts: 100%|██████████| 15/15 [00:14<00:00,  1.01it/s, est. speed input: 3136.93 toks/s, output: 343.01 toks/s]"
     ]
    },
    {
     "name": "stdout",
     "output_type": "stream",
     "text": [
      "After completion,       # of trajectories: finished: 0 | dropped: 1 | continue: 15\n",
      "After single selection, # of trajectories: finished: 0 | dropped: 2 | continue: 14\n",
      "After multi-selection,  # of trajectories: finished: 0 | dropped: 2 | continue: 14\n"
     ]
    },
    {
     "name": "stderr",
     "output_type": "stream",
     "text": [
      "\n",
      "Executing: 100%|██████████| 14/14 [00:00<00:00, 16.03it/s]\n"
     ]
    },
    {
     "name": "stdout",
     "output_type": "stream",
     "text": [
      "After execution, # of trajectories: finished: 0 | dropped: 2 | continue: 14\n",
      "len(trajs)=14\n",
      "sampling_params.n=1\n"
     ]
    },
    {
     "name": "stderr",
     "output_type": "stream",
     "text": [
      "Processed prompts: 100%|██████████| 14/14 [00:13<00:00,  1.05it/s, est. speed input: 3579.71 toks/s, output: 318.38 toks/s]"
     ]
    },
    {
     "name": "stdout",
     "output_type": "stream",
     "text": [
      "After completion,       # of trajectories: finished: 0 | dropped: 2 | continue: 14\n",
      "After single selection, # of trajectories: finished: 0 | dropped: 4 | continue: 12\n",
      "After multi-selection,  # of trajectories: finished: 0 | dropped: 4 | continue: 12\n"
     ]
    },
    {
     "name": "stderr",
     "output_type": "stream",
     "text": [
      "\n",
      "Executing: 100%|██████████| 12/12 [00:00<00:00, 13.36it/s]\n"
     ]
    },
    {
     "name": "stdout",
     "output_type": "stream",
     "text": [
      "After execution, # of trajectories: finished: 0 | dropped: 4 | continue: 12\n",
      "len(trajs)=12\n",
      "sampling_params.n=1\n"
     ]
    },
    {
     "name": "stderr",
     "output_type": "stream",
     "text": [
      "Processed prompts: 100%|██████████| 12/12 [00:10<00:00,  1.12it/s, est. speed input: 4118.56 toks/s, output: 261.71 toks/s]"
     ]
    },
    {
     "name": "stdout",
     "output_type": "stream",
     "text": [
      "After completion,       # of trajectories: finished: 0 | dropped: 4 | continue: 12\n",
      "After single selection, # of trajectories: finished: 0 | dropped: 13 | continue: 3\n",
      "After multi-selection,  # of trajectories: finished: 0 | dropped: 13 | continue: 3\n"
     ]
    },
    {
     "name": "stderr",
     "output_type": "stream",
     "text": [
      "\n",
      "Executing: 100%|██████████| 3/3 [00:00<00:00,  7.92it/s]\n"
     ]
    },
    {
     "name": "stdout",
     "output_type": "stream",
     "text": [
      "After execution, # of trajectories: finished: 0 | dropped: 13 | continue: 3\n",
      "len(trajs)=3\n",
      "sampling_params.n=1\n"
     ]
    },
    {
     "name": "stderr",
     "output_type": "stream",
     "text": [
      "Processed prompts: 100%|██████████| 3/3 [00:04<00:00,  1.52s/it, est. speed input: 2208.81 toks/s, output: 135.03 toks/s]"
     ]
    },
    {
     "name": "stdout",
     "output_type": "stream",
     "text": [
      "After completion,       # of trajectories: finished: 0 | dropped: 13 | continue: 3\n",
      "After single selection, # of trajectories: finished: 0 | dropped: 13 | continue: 3\n",
      "After multi-selection,  # of trajectories: finished: 0 | dropped: 13 | continue: 3\n"
     ]
    },
    {
     "name": "stderr",
     "output_type": "stream",
     "text": [
      "\n",
      "Executing: 100%|██████████| 3/3 [00:00<00:00, 10.68it/s]\n"
     ]
    },
    {
     "name": "stdout",
     "output_type": "stream",
     "text": [
      "After execution, # of trajectories: finished: 0 | dropped: 13 | continue: 3\n",
      "len(trajs)=3\n",
      "sampling_params.n=1\n"
     ]
    },
    {
     "name": "stderr",
     "output_type": "stream",
     "text": [
      "Processed prompts: 100%|██████████| 3/3 [00:04<00:00,  1.56s/it, est. speed input: 2302.94 toks/s, output: 147.93 toks/s]"
     ]
    },
    {
     "name": "stdout",
     "output_type": "stream",
     "text": [
      "After completion,       # of trajectories: finished: 0 | dropped: 13 | continue: 3\n",
      "After single selection, # of trajectories: finished: 0 | dropped: 14 | continue: 2\n",
      "After multi-selection,  # of trajectories: finished: 0 | dropped: 14 | continue: 2\n"
     ]
    },
    {
     "name": "stderr",
     "output_type": "stream",
     "text": [
      "\n",
      "Executing: 100%|██████████| 2/2 [00:00<00:00, 179.96it/s]\n"
     ]
    },
    {
     "name": "stdout",
     "output_type": "stream",
     "text": [
      "After execution, # of trajectories: finished: 0 | dropped: 14 | continue: 2\n",
      "len(trajs)=2\n",
      "sampling_params.n=1\n"
     ]
    },
    {
     "name": "stderr",
     "output_type": "stream",
     "text": [
      "Processed prompts: 100%|██████████| 2/2 [00:03<00:00,  1.56s/it, est. speed input: 2360.09 toks/s, output: 111.45 toks/s]"
     ]
    },
    {
     "name": "stdout",
     "output_type": "stream",
     "text": [
      "After completion,       # of trajectories: finished: 0 | dropped: 14 | continue: 2\n",
      "After single selection, # of trajectories: finished: 0 | dropped: 14 | continue: 2\n",
      "After multi-selection,  # of trajectories: finished: 0 | dropped: 14 | continue: 2\n"
     ]
    },
    {
     "name": "stderr",
     "output_type": "stream",
     "text": [
      "\n",
      "Executing: 100%|██████████| 2/2 [00:00<00:00, 18.26it/s]\n"
     ]
    },
    {
     "name": "stdout",
     "output_type": "stream",
     "text": [
      "After execution, # of trajectories: finished: 0 | dropped: 14 | continue: 2\n",
      "len(trajs)=2\n",
      "sampling_params.n=1\n"
     ]
    },
    {
     "name": "stderr",
     "output_type": "stream",
     "text": [
      "Processed prompts: 100%|██████████| 2/2 [00:03<00:00,  1.70s/it, est. speed input: 2283.55 toks/s, output: 112.17 toks/s]\n"
     ]
    },
    {
     "name": "stdout",
     "output_type": "stream",
     "text": [
      "After completion,       # of trajectories: finished: 0 | dropped: 14 | continue: 2\n",
      "After single selection, # of trajectories: finished: 0 | dropped: 16 | continue: 0\n",
      "After multi-selection,  # of trajectories: finished: 0 | dropped: 16 | continue: 0\n",
      "len(trajs)=1\n",
      "sampling_params.n=16\n"
     ]
    },
    {
     "name": "stderr",
     "output_type": "stream",
     "text": [
      "Processed prompts: 100%|██████████| 1/1 [00:04<00:00,  4.91s/it, est. speed input: 284.70 toks/s, output: 772.03 toks/s]"
     ]
    },
    {
     "name": "stdout",
     "output_type": "stream",
     "text": [
      "After completion,       # of trajectories: finished: 0 | dropped: 16 | continue: 16\n",
      "After single selection, # of trajectories: finished: 0 | dropped: 16 | continue: 16\n",
      "After multi-selection,  # of trajectories: finished: 0 | dropped: 16 | continue: 16\n"
     ]
    },
    {
     "name": "stderr",
     "output_type": "stream",
     "text": [
      "\n",
      "Executing: 100%|██████████| 16/16 [00:00<00:00, 44.78it/s]\n"
     ]
    },
    {
     "name": "stdout",
     "output_type": "stream",
     "text": [
      "After execution, # of trajectories: finished: 0 | dropped: 16 | continue: 16\n",
      "len(trajs)=16\n",
      "sampling_params.n=1\n"
     ]
    },
    {
     "name": "stderr",
     "output_type": "stream",
     "text": [
      "Processed prompts: 100%|██████████| 16/16 [00:11<00:00,  1.39it/s, est. speed input: 2310.83 toks/s, output: 480.45 toks/s]"
     ]
    },
    {
     "name": "stdout",
     "output_type": "stream",
     "text": [
      "After completion,       # of trajectories: finished: 0 | dropped: 16 | continue: 16\n",
      "After single selection, # of trajectories: finished: 0 | dropped: 17 | continue: 15\n",
      "After multi-selection,  # of trajectories: finished: 0 | dropped: 17 | continue: 15\n"
     ]
    },
    {
     "name": "stderr",
     "output_type": "stream",
     "text": [
      "\n",
      "Executing: 100%|██████████| 15/15 [00:00<00:00, 35.49it/s]\n"
     ]
    },
    {
     "name": "stdout",
     "output_type": "stream",
     "text": [
      "After execution, # of trajectories: finished: 0 | dropped: 17 | continue: 15\n",
      "len(trajs)=15\n",
      "sampling_params.n=1\n"
     ]
    },
    {
     "name": "stderr",
     "output_type": "stream",
     "text": [
      "Processed prompts: 100%|██████████| 15/15 [00:11<00:00,  1.29it/s, est. speed input: 2609.13 toks/s, output: 430.41 toks/s]"
     ]
    },
    {
     "name": "stdout",
     "output_type": "stream",
     "text": [
      "After completion,       # of trajectories: finished: 0 | dropped: 17 | continue: 15\n",
      "After single selection, # of trajectories: finished: 0 | dropped: 17 | continue: 15\n",
      "After multi-selection,  # of trajectories: finished: 0 | dropped: 17 | continue: 15\n"
     ]
    },
    {
     "name": "stderr",
     "output_type": "stream",
     "text": [
      "\n",
      "Executing: 100%|██████████| 15/15 [00:00<00:00, 24.55it/s]\n"
     ]
    },
    {
     "name": "stdout",
     "output_type": "stream",
     "text": [
      "After execution, # of trajectories: finished: 0 | dropped: 17 | continue: 15\n",
      "len(trajs)=15\n",
      "sampling_params.n=1\n"
     ]
    },
    {
     "name": "stderr",
     "output_type": "stream",
     "text": [
      "Processed prompts: 100%|██████████| 15/15 [00:12<00:00,  1.17it/s, est. speed input: 2782.41 toks/s, output: 399.85 toks/s]"
     ]
    },
    {
     "name": "stdout",
     "output_type": "stream",
     "text": [
      "After completion,       # of trajectories: finished: 0 | dropped: 17 | continue: 15\n",
      "After single selection, # of trajectories: finished: 0 | dropped: 17 | continue: 15\n",
      "After multi-selection,  # of trajectories: finished: 0 | dropped: 17 | continue: 15\n"
     ]
    },
    {
     "name": "stderr",
     "output_type": "stream",
     "text": [
      "\n",
      "Executing: 100%|██████████| 15/15 [00:00<00:00, 24.70it/s]\n"
     ]
    },
    {
     "name": "stdout",
     "output_type": "stream",
     "text": [
      "After execution, # of trajectories: finished: 0 | dropped: 17 | continue: 15\n",
      "len(trajs)=15\n",
      "sampling_params.n=1\n"
     ]
    },
    {
     "name": "stderr",
     "output_type": "stream",
     "text": [
      "Processed prompts: 100%|██████████| 15/15 [00:13<00:00,  1.10it/s, est. speed input: 3016.12 toks/s, output: 363.72 toks/s]"
     ]
    },
    {
     "name": "stdout",
     "output_type": "stream",
     "text": [
      "After completion,       # of trajectories: finished: 0 | dropped: 17 | continue: 15\n",
      "After single selection, # of trajectories: finished: 0 | dropped: 17 | continue: 15\n",
      "After multi-selection,  # of trajectories: finished: 0 | dropped: 17 | continue: 15\n"
     ]
    },
    {
     "name": "stderr",
     "output_type": "stream",
     "text": [
      "\n",
      "Executing: 100%|██████████| 15/15 [00:00<00:00, 18.95it/s]\n"
     ]
    },
    {
     "name": "stdout",
     "output_type": "stream",
     "text": [
      "After execution, # of trajectories: finished: 0 | dropped: 17 | continue: 15\n",
      "len(trajs)=15\n",
      "sampling_params.n=1\n"
     ]
    },
    {
     "name": "stderr",
     "output_type": "stream",
     "text": [
      "Processed prompts: 100%|██████████| 15/15 [00:14<00:00,  1.01it/s, est. speed input: 3129.15 toks/s, output: 342.16 toks/s]"
     ]
    },
    {
     "name": "stdout",
     "output_type": "stream",
     "text": [
      "After completion,       # of trajectories: finished: 0 | dropped: 17 | continue: 15\n",
      "After single selection, # of trajectories: finished: 0 | dropped: 18 | continue: 14\n",
      "After multi-selection,  # of trajectories: finished: 0 | dropped: 18 | continue: 14\n"
     ]
    },
    {
     "name": "stderr",
     "output_type": "stream",
     "text": [
      "\n",
      "Executing: 100%|██████████| 14/14 [00:00<00:00, 15.55it/s]\n"
     ]
    },
    {
     "name": "stdout",
     "output_type": "stream",
     "text": [
      "After execution, # of trajectories: finished: 0 | dropped: 18 | continue: 14\n",
      "len(trajs)=14\n",
      "sampling_params.n=1\n"
     ]
    },
    {
     "name": "stderr",
     "output_type": "stream",
     "text": [
      "Processed prompts: 100%|██████████| 14/14 [00:13<00:00,  1.04it/s, est. speed input: 3559.90 toks/s, output: 316.62 toks/s]"
     ]
    },
    {
     "name": "stdout",
     "output_type": "stream",
     "text": [
      "After completion,       # of trajectories: finished: 0 | dropped: 18 | continue: 14\n",
      "After single selection, # of trajectories: finished: 0 | dropped: 20 | continue: 12\n",
      "After multi-selection,  # of trajectories: finished: 0 | dropped: 20 | continue: 12\n"
     ]
    },
    {
     "name": "stderr",
     "output_type": "stream",
     "text": [
      "\n",
      "Executing: 100%|██████████| 12/12 [00:00<00:00, 12.80it/s]\n"
     ]
    },
    {
     "name": "stdout",
     "output_type": "stream",
     "text": [
      "After execution, # of trajectories: finished: 0 | dropped: 20 | continue: 12\n",
      "len(trajs)=12\n",
      "sampling_params.n=1\n"
     ]
    },
    {
     "name": "stderr",
     "output_type": "stream",
     "text": [
      "Processed prompts: 100%|██████████| 12/12 [00:10<00:00,  1.12it/s, est. speed input: 4114.41 toks/s, output: 261.45 toks/s]"
     ]
    },
    {
     "name": "stdout",
     "output_type": "stream",
     "text": [
      "After completion,       # of trajectories: finished: 0 | dropped: 20 | continue: 12\n",
      "After single selection, # of trajectories: finished: 0 | dropped: 29 | continue: 3\n",
      "After multi-selection,  # of trajectories: finished: 0 | dropped: 29 | continue: 3\n"
     ]
    },
    {
     "name": "stderr",
     "output_type": "stream",
     "text": [
      "\n",
      "Executing: 100%|██████████| 3/3 [00:00<00:00, 13.38it/s]\n"
     ]
    },
    {
     "name": "stdout",
     "output_type": "stream",
     "text": [
      "After execution, # of trajectories: finished: 0 | dropped: 29 | continue: 3\n",
      "len(trajs)=3\n",
      "sampling_params.n=1\n"
     ]
    },
    {
     "name": "stderr",
     "output_type": "stream",
     "text": [
      "Processed prompts: 100%|██████████| 3/3 [00:04<00:00,  1.52s/it, est. speed input: 2214.49 toks/s, output: 135.37 toks/s]"
     ]
    },
    {
     "name": "stdout",
     "output_type": "stream",
     "text": [
      "After completion,       # of trajectories: finished: 0 | dropped: 29 | continue: 3\n",
      "After single selection, # of trajectories: finished: 0 | dropped: 29 | continue: 3\n",
      "After multi-selection,  # of trajectories: finished: 0 | dropped: 29 | continue: 3\n"
     ]
    },
    {
     "name": "stderr",
     "output_type": "stream",
     "text": [
      "\n",
      "Executing: 100%|██████████| 3/3 [00:00<00:00, 12.47it/s]\n"
     ]
    },
    {
     "name": "stdout",
     "output_type": "stream",
     "text": [
      "After execution, # of trajectories: finished: 0 | dropped: 29 | continue: 3\n",
      "len(trajs)=3\n",
      "sampling_params.n=1\n"
     ]
    },
    {
     "name": "stderr",
     "output_type": "stream",
     "text": [
      "Processed prompts: 100%|██████████| 3/3 [00:04<00:00,  1.55s/it, est. speed input: 2308.86 toks/s, output: 148.31 toks/s]"
     ]
    },
    {
     "name": "stdout",
     "output_type": "stream",
     "text": [
      "After completion,       # of trajectories: finished: 0 | dropped: 29 | continue: 3\n",
      "After single selection, # of trajectories: finished: 0 | dropped: 30 | continue: 2\n",
      "After multi-selection,  # of trajectories: finished: 0 | dropped: 30 | continue: 2\n"
     ]
    },
    {
     "name": "stderr",
     "output_type": "stream",
     "text": [
      "\n",
      "Executing: 100%|██████████| 2/2 [00:00<00:00,  9.52it/s]\n"
     ]
    },
    {
     "name": "stdout",
     "output_type": "stream",
     "text": [
      "After execution, # of trajectories: finished: 0 | dropped: 30 | continue: 2\n",
      "len(trajs)=2\n",
      "sampling_params.n=1\n"
     ]
    },
    {
     "name": "stderr",
     "output_type": "stream",
     "text": [
      "Processed prompts: 100%|██████████| 2/2 [00:03<00:00,  1.55s/it, est. speed input: 2371.99 toks/s, output: 112.02 toks/s]"
     ]
    },
    {
     "name": "stdout",
     "output_type": "stream",
     "text": [
      "After completion,       # of trajectories: finished: 0 | dropped: 30 | continue: 2\n",
      "After single selection, # of trajectories: finished: 0 | dropped: 30 | continue: 2\n",
      "After multi-selection,  # of trajectories: finished: 0 | dropped: 30 | continue: 2\n"
     ]
    },
    {
     "name": "stderr",
     "output_type": "stream",
     "text": [
      "\n",
      "Executing: 100%|██████████| 2/2 [00:00<00:00, 24.86it/s]\n"
     ]
    },
    {
     "name": "stdout",
     "output_type": "stream",
     "text": [
      "After execution, # of trajectories: finished: 0 | dropped: 30 | continue: 2\n",
      "len(trajs)=2\n",
      "sampling_params.n=1\n"
     ]
    },
    {
     "name": "stderr",
     "output_type": "stream",
     "text": [
      "Processed prompts: 100%|██████████| 2/2 [00:03<00:00,  1.63s/it, est. speed input: 2383.19 toks/s, output: 117.07 toks/s]\n"
     ]
    },
    {
     "name": "stdout",
     "output_type": "stream",
     "text": [
      "After completion,       # of trajectories: finished: 0 | dropped: 30 | continue: 2\n",
      "After single selection, # of trajectories: finished: 0 | dropped: 32 | continue: 0\n",
      "After multi-selection,  # of trajectories: finished: 0 | dropped: 32 | continue: 0\n",
      "len(trajs)=1\n",
      "sampling_params.n=16\n"
     ]
    },
    {
     "name": "stderr",
     "output_type": "stream",
     "text": [
      "Processed prompts:   0%|          | 0/1 [00:00<?, ?it/s, est. speed input: 0.00 toks/s, output: 0.00 toks/s]"
     ]
    },
    {
     "ename": "ZeroDivisionError",
     "evalue": "division by zero",
     "output_type": "error",
     "traceback": [
      "\u001b[0;31m---------------------------------------------------------------------------\u001b[0m",
      "\u001b[0;31mKeyboardInterrupt\u001b[0m                         Traceback (most recent call last)",
      "\u001b[1;32m/ssddata/tongyx/projects/agent-search/pipelines/search.ipynb Cell 12\u001b[0m line \u001b[0;36m3\n\u001b[1;32m     <a href='vscode-notebook-cell://ssh-remote%2B7b22686f73744e616d65223a22484b5553542d4e4c502d413830302d3830474278382d4e564c696e6b227d/ssddata/tongyx/projects/agent-search/pipelines/search.ipynb#X33sdnNjb2RlLXJlbW90ZQ%3D%3D?line=33'>34</a>\u001b[0m \u001b[39mexcept\u001b[39;00m \u001b[39mBaseException\u001b[39;00m \u001b[39mas\u001b[39;00m e:\n\u001b[0;32m---> <a href='vscode-notebook-cell://ssh-remote%2B7b22686f73744e616d65223a22484b5553542d4e4c502d413830302d3830474278382d4e564c696e6b227d/ssddata/tongyx/projects/agent-search/pipelines/search.ipynb#X33sdnNjb2RlLXJlbW90ZQ%3D%3D?line=34'>35</a>\u001b[0m     \u001b[39mraise\u001b[39;00m e\n\u001b[1;32m     <a href='vscode-notebook-cell://ssh-remote%2B7b22686f73744e616d65223a22484b5553542d4e4c502d413830302d3830474278382d4e564c696e6b227d/ssddata/tongyx/projects/agent-search/pipelines/search.ipynb#X33sdnNjb2RlLXJlbW90ZQ%3D%3D?line=35'>36</a>\u001b[0m \u001b[39mfinally\u001b[39;00m:\n",
      "\u001b[1;32m/ssddata/tongyx/projects/agent-search/pipelines/search.ipynb Cell 12\u001b[0m line \u001b[0;36m1\n\u001b[1;32m     <a href='vscode-notebook-cell://ssh-remote%2B7b22686f73744e616d65223a22484b5553542d4e4c502d413830302d3830474278382d4e564c696e6b227d/ssddata/tongyx/projects/agent-search/pipelines/search.ipynb#X33sdnNjb2RlLXJlbW90ZQ%3D%3D?line=16'>17</a>\u001b[0m problem_start \u001b[39m=\u001b[39m time\u001b[39m.\u001b[39mtime()\n\u001b[0;32m---> <a href='vscode-notebook-cell://ssh-remote%2B7b22686f73744e616d65223a22484b5553542d4e4c502d413830302d3830474278382d4e564c696e6b227d/ssddata/tongyx/projects/agent-search/pipelines/search.ipynb#X33sdnNjb2RlLXJlbW90ZQ%3D%3D?line=17'>18</a>\u001b[0m ans \u001b[39m=\u001b[39m agent\u001b[39m.\u001b[39;49msearch(init_input\u001b[39m=\u001b[39;49mdp[\u001b[39m\"\u001b[39;49m\u001b[39mquery\u001b[39;49m\u001b[39m\"\u001b[39;49m], output_dir\u001b[39m=\u001b[39;49msearch_dir) \u001b[39m%\u001b[39m \u001b[39m1000\u001b[39m\n\u001b[1;32m     <a href='vscode-notebook-cell://ssh-remote%2B7b22686f73744e616d65223a22484b5553542d4e4c502d413830302d3830474278382d4e564c696e6b227d/ssddata/tongyx/projects/agent-search/pipelines/search.ipynb#X33sdnNjb2RlLXJlbW90ZQ%3D%3D?line=18'>19</a>\u001b[0m problem_time \u001b[39m=\u001b[39m time\u001b[39m.\u001b[39mtime() \u001b[39m-\u001b[39m problem_start\n",
      "File \u001b[0;32m/ssddata/tongyx/projects/agent-search/agent_search/agent.py:373\u001b[0m, in \u001b[0;36mVLLMPythonMathAgent.search\u001b[0;34m(self, init_input, ref_ans, output_dir)\u001b[0m\n\u001b[1;32m    372\u001b[0m \u001b[39mexcept\u001b[39;00m \u001b[39mBaseException\u001b[39;00m \u001b[39mas\u001b[39;00m e:\n\u001b[0;32m--> 373\u001b[0m     \u001b[39mraise\u001b[39;00m e\n\u001b[1;32m    374\u001b[0m \u001b[39mfinally\u001b[39;00m:\n",
      "File \u001b[0;32m/ssddata/tongyx/projects/agent-search/agent_search/agent.py:222\u001b[0m, in \u001b[0;36mVLLMPythonMathAgent.search\u001b[0;34m(self, init_input, ref_ans, output_dir)\u001b[0m\n\u001b[1;32m    221\u001b[0m \u001b[39mprint\u001b[39m(\u001b[39mf\u001b[39m\u001b[39m\"\u001b[39m\u001b[39m{\u001b[39;00msampling_params\u001b[39m.\u001b[39mn\u001b[39m=}\u001b[39;00m\u001b[39m\"\u001b[39m)\n\u001b[0;32m--> 222\u001b[0m req_outputs: \u001b[39mlist\u001b[39m[RequestOutput] \u001b[39m=\u001b[39m \u001b[39mself\u001b[39;49m\u001b[39m.\u001b[39;49mllm\u001b[39m.\u001b[39;49mgenerate(\n\u001b[1;32m    223\u001b[0m     prompts\u001b[39m=\u001b[39;49m[traj\u001b[39m.\u001b[39;49mctx \u001b[39mfor\u001b[39;49;00m traj \u001b[39min\u001b[39;49;00m trajs],\n\u001b[1;32m    224\u001b[0m     sampling_params\u001b[39m=\u001b[39;49msampling_params,\n\u001b[1;32m    225\u001b[0m )\n\u001b[1;32m    226\u001b[0m new_trajs: \u001b[39mlist\u001b[39m[VLLMPythonMathTrajectory] \u001b[39m=\u001b[39m []\n",
      "File \u001b[0;32m/ssddata/tongyx/miniconda3/envs/agent-search/lib/python3.11/site-packages/vllm/utils.py:691\u001b[0m, in \u001b[0;36mdeprecate_kwargs.<locals>.wrapper.<locals>.inner\u001b[0;34m(*args, **kwargs)\u001b[0m\n\u001b[1;32m    686\u001b[0m         warnings\u001b[39m.\u001b[39mwarn(\n\u001b[1;32m    687\u001b[0m             \u001b[39mDeprecationWarning\u001b[39;00m(msg),\n\u001b[1;32m    688\u001b[0m             stacklevel\u001b[39m=\u001b[39m\u001b[39m3\u001b[39m,  \u001b[39m# The inner function takes up one level\u001b[39;00m\n\u001b[1;32m    689\u001b[0m         )\n\u001b[0;32m--> 691\u001b[0m \u001b[39mreturn\u001b[39;00m fn(\u001b[39m*\u001b[39;49margs, \u001b[39m*\u001b[39;49m\u001b[39m*\u001b[39;49mkwargs)\n",
      "File \u001b[0;32m/ssddata/tongyx/miniconda3/envs/agent-search/lib/python3.11/site-packages/vllm/entrypoints/llm.py:304\u001b[0m, in \u001b[0;36mLLM.generate\u001b[0;34m(self, prompts, sampling_params, prompt_token_ids, use_tqdm, lora_request)\u001b[0m\n\u001b[1;32m    298\u001b[0m \u001b[39mself\u001b[39m\u001b[39m.\u001b[39m_validate_and_add_requests(\n\u001b[1;32m    299\u001b[0m     inputs\u001b[39m=\u001b[39minputs,\n\u001b[1;32m    300\u001b[0m     params\u001b[39m=\u001b[39msampling_params,\n\u001b[1;32m    301\u001b[0m     lora_request\u001b[39m=\u001b[39mlora_request,\n\u001b[1;32m    302\u001b[0m )\n\u001b[0;32m--> 304\u001b[0m outputs \u001b[39m=\u001b[39m \u001b[39mself\u001b[39;49m\u001b[39m.\u001b[39;49m_run_engine(use_tqdm\u001b[39m=\u001b[39;49muse_tqdm)\n\u001b[1;32m    305\u001b[0m \u001b[39mreturn\u001b[39;00m LLMEngine\u001b[39m.\u001b[39mvalidate_outputs(outputs, RequestOutput)\n",
      "File \u001b[0;32m/ssddata/tongyx/miniconda3/envs/agent-search/lib/python3.11/site-packages/vllm/entrypoints/llm.py:556\u001b[0m, in \u001b[0;36mLLM._run_engine\u001b[0;34m(self, use_tqdm)\u001b[0m\n\u001b[1;32m    555\u001b[0m \u001b[39mwhile\u001b[39;00m \u001b[39mself\u001b[39m\u001b[39m.\u001b[39mllm_engine\u001b[39m.\u001b[39mhas_unfinished_requests():\n\u001b[0;32m--> 556\u001b[0m     step_outputs \u001b[39m=\u001b[39m \u001b[39mself\u001b[39;49m\u001b[39m.\u001b[39;49mllm_engine\u001b[39m.\u001b[39;49mstep()\n\u001b[1;32m    557\u001b[0m     \u001b[39mfor\u001b[39;00m output \u001b[39min\u001b[39;00m step_outputs:\n",
      "File \u001b[0;32m/ssddata/tongyx/miniconda3/envs/agent-search/lib/python3.11/site-packages/vllm/engine/llm_engine.py:776\u001b[0m, in \u001b[0;36mLLMEngine.step\u001b[0;34m(self)\u001b[0m\n\u001b[1;32m    768\u001b[0m     execute_model_req \u001b[39m=\u001b[39m ExecuteModelRequest(\n\u001b[1;32m    769\u001b[0m         seq_group_metadata_list\u001b[39m=\u001b[39mseq_group_metadata_list,\n\u001b[1;32m    770\u001b[0m         blocks_to_swap_in\u001b[39m=\u001b[39mscheduler_outputs\u001b[39m.\u001b[39mblocks_to_swap_in,\n\u001b[0;32m   (...)\u001b[0m\n\u001b[1;32m    774\u001b[0m         running_queue_size\u001b[39m=\u001b[39mscheduler_outputs\u001b[39m.\u001b[39mrunning_queue_size,\n\u001b[1;32m    775\u001b[0m     )\n\u001b[0;32m--> 776\u001b[0m     output \u001b[39m=\u001b[39m \u001b[39mself\u001b[39;49m\u001b[39m.\u001b[39;49mmodel_executor\u001b[39m.\u001b[39;49mexecute_model(\n\u001b[1;32m    777\u001b[0m         execute_model_req\u001b[39m=\u001b[39;49mexecute_model_req)\n\u001b[1;32m    778\u001b[0m \u001b[39melse\u001b[39;00m:\n",
      "File \u001b[0;32m/ssddata/tongyx/miniconda3/envs/agent-search/lib/python3.11/site-packages/vllm/executor/gpu_executor.py:91\u001b[0m, in \u001b[0;36mGPUExecutor.execute_model\u001b[0;34m(self, execute_model_req)\u001b[0m\n\u001b[1;32m     88\u001b[0m \u001b[39mdef\u001b[39;00m \u001b[39mexecute_model\u001b[39m(\n\u001b[1;32m     89\u001b[0m     \u001b[39mself\u001b[39m, execute_model_req: ExecuteModelRequest\n\u001b[1;32m     90\u001b[0m ) \u001b[39m-\u001b[39m\u001b[39m>\u001b[39m List[Union[SamplerOutput, PoolerOutput]]:\n\u001b[0;32m---> 91\u001b[0m     output \u001b[39m=\u001b[39m \u001b[39mself\u001b[39;49m\u001b[39m.\u001b[39;49mdriver_worker\u001b[39m.\u001b[39;49mexecute_model(execute_model_req)\n\u001b[1;32m     92\u001b[0m     \u001b[39mreturn\u001b[39;00m output\n",
      "File \u001b[0;32m/ssddata/tongyx/miniconda3/envs/agent-search/lib/python3.11/site-packages/torch/utils/_contextlib.py:115\u001b[0m, in \u001b[0;36mcontext_decorator.<locals>.decorate_context\u001b[0;34m(*args, **kwargs)\u001b[0m\n\u001b[1;32m    114\u001b[0m \u001b[39mwith\u001b[39;00m ctx_factory():\n\u001b[0;32m--> 115\u001b[0m     \u001b[39mreturn\u001b[39;00m func(\u001b[39m*\u001b[39;49margs, \u001b[39m*\u001b[39;49m\u001b[39m*\u001b[39;49mkwargs)\n",
      "File \u001b[0;32m/ssddata/tongyx/miniconda3/envs/agent-search/lib/python3.11/site-packages/vllm/worker/worker.py:280\u001b[0m, in \u001b[0;36mWorker.execute_model\u001b[0;34m(self, execute_model_req)\u001b[0m\n\u001b[1;32m    278\u001b[0m     \u001b[39mreturn\u001b[39;00m []\n\u001b[0;32m--> 280\u001b[0m output \u001b[39m=\u001b[39m \u001b[39mself\u001b[39;49m\u001b[39m.\u001b[39;49mmodel_runner\u001b[39m.\u001b[39;49mexecute_model(seq_group_metadata_list,\n\u001b[1;32m    281\u001b[0m                                          \u001b[39mself\u001b[39;49m\u001b[39m.\u001b[39;49mgpu_cache)\n\u001b[1;32m    283\u001b[0m \u001b[39m# Worker only supports single-step execution. Wrap the output in a list\u001b[39;00m\n\u001b[1;32m    284\u001b[0m \u001b[39m# to conform to interface.\u001b[39;00m\n",
      "File \u001b[0;32m/ssddata/tongyx/miniconda3/envs/agent-search/lib/python3.11/site-packages/torch/utils/_contextlib.py:115\u001b[0m, in \u001b[0;36mcontext_decorator.<locals>.decorate_context\u001b[0;34m(*args, **kwargs)\u001b[0m\n\u001b[1;32m    114\u001b[0m \u001b[39mwith\u001b[39;00m ctx_factory():\n\u001b[0;32m--> 115\u001b[0m     \u001b[39mreturn\u001b[39;00m func(\u001b[39m*\u001b[39;49margs, \u001b[39m*\u001b[39;49m\u001b[39m*\u001b[39;49mkwargs)\n",
      "File \u001b[0;32m/ssddata/tongyx/miniconda3/envs/agent-search/lib/python3.11/site-packages/vllm/worker/model_runner.py:765\u001b[0m, in \u001b[0;36mModelRunner.execute_model\u001b[0;34m(self, seq_group_metadata_list, kv_caches)\u001b[0m\n\u001b[1;32m    764\u001b[0m \u001b[39m# Sample the next token.\u001b[39;00m\n\u001b[0;32m--> 765\u001b[0m output \u001b[39m=\u001b[39m \u001b[39mself\u001b[39;49m\u001b[39m.\u001b[39;49mmodel\u001b[39m.\u001b[39;49msample(\n\u001b[1;32m    766\u001b[0m     logits\u001b[39m=\u001b[39;49mlogits,\n\u001b[1;32m    767\u001b[0m     sampling_metadata\u001b[39m=\u001b[39;49msampling_metadata,\n\u001b[1;32m    768\u001b[0m )\n\u001b[1;32m    770\u001b[0m \u001b[39mreturn\u001b[39;00m output\n",
      "File \u001b[0;32m/ssddata/tongyx/miniconda3/envs/agent-search/lib/python3.11/site-packages/vllm/model_executor/models/llama.py:386\u001b[0m, in \u001b[0;36mLlamaForCausalLM.sample\u001b[0;34m(self, logits, sampling_metadata)\u001b[0m\n\u001b[1;32m    381\u001b[0m \u001b[39mdef\u001b[39;00m \u001b[39msample\u001b[39m(\n\u001b[1;32m    382\u001b[0m     \u001b[39mself\u001b[39m,\n\u001b[1;32m    383\u001b[0m     logits: torch\u001b[39m.\u001b[39mTensor,\n\u001b[1;32m    384\u001b[0m     sampling_metadata: SamplingMetadata,\n\u001b[1;32m    385\u001b[0m ) \u001b[39m-\u001b[39m\u001b[39m>\u001b[39m Optional[SamplerOutput]:\n\u001b[0;32m--> 386\u001b[0m     next_tokens \u001b[39m=\u001b[39m \u001b[39mself\u001b[39;49m\u001b[39m.\u001b[39;49msampler(logits, sampling_metadata)\n\u001b[1;32m    387\u001b[0m     \u001b[39mreturn\u001b[39;00m next_tokens\n",
      "File \u001b[0;32m/ssddata/tongyx/miniconda3/envs/agent-search/lib/python3.11/site-packages/torch/nn/modules/module.py:1532\u001b[0m, in \u001b[0;36mModule._wrapped_call_impl\u001b[0;34m(self, *args, **kwargs)\u001b[0m\n\u001b[1;32m   1531\u001b[0m \u001b[39melse\u001b[39;00m:\n\u001b[0;32m-> 1532\u001b[0m     \u001b[39mreturn\u001b[39;00m \u001b[39mself\u001b[39;49m\u001b[39m.\u001b[39;49m_call_impl(\u001b[39m*\u001b[39;49margs, \u001b[39m*\u001b[39;49m\u001b[39m*\u001b[39;49mkwargs)\n",
      "File \u001b[0;32m/ssddata/tongyx/miniconda3/envs/agent-search/lib/python3.11/site-packages/torch/nn/modules/module.py:1541\u001b[0m, in \u001b[0;36mModule._call_impl\u001b[0;34m(self, *args, **kwargs)\u001b[0m\n\u001b[1;32m   1538\u001b[0m \u001b[39mif\u001b[39;00m \u001b[39mnot\u001b[39;00m (\u001b[39mself\u001b[39m\u001b[39m.\u001b[39m_backward_hooks \u001b[39mor\u001b[39;00m \u001b[39mself\u001b[39m\u001b[39m.\u001b[39m_backward_pre_hooks \u001b[39mor\u001b[39;00m \u001b[39mself\u001b[39m\u001b[39m.\u001b[39m_forward_hooks \u001b[39mor\u001b[39;00m \u001b[39mself\u001b[39m\u001b[39m.\u001b[39m_forward_pre_hooks\n\u001b[1;32m   1539\u001b[0m         \u001b[39mor\u001b[39;00m _global_backward_pre_hooks \u001b[39mor\u001b[39;00m _global_backward_hooks\n\u001b[1;32m   1540\u001b[0m         \u001b[39mor\u001b[39;00m _global_forward_hooks \u001b[39mor\u001b[39;00m _global_forward_pre_hooks):\n\u001b[0;32m-> 1541\u001b[0m     \u001b[39mreturn\u001b[39;00m forward_call(\u001b[39m*\u001b[39;49margs, \u001b[39m*\u001b[39;49m\u001b[39m*\u001b[39;49mkwargs)\n\u001b[1;32m   1543\u001b[0m \u001b[39mtry\u001b[39;00m:\n",
      "File \u001b[0;32m/ssddata/tongyx/miniconda3/envs/agent-search/lib/python3.11/site-packages/vllm/model_executor/layers/sampler.py:96\u001b[0m, in \u001b[0;36mSampler.forward\u001b[0;34m(self, logits, sampling_metadata)\u001b[0m\n\u001b[1;32m     95\u001b[0m \u001b[39m# Sample the next tokens.\u001b[39;00m\n\u001b[0;32m---> 96\u001b[0m sample_results, maybe_sampled_tokens_tensor \u001b[39m=\u001b[39m _sample(\n\u001b[1;32m     97\u001b[0m     probs,\n\u001b[1;32m     98\u001b[0m     logprobs,\n\u001b[1;32m     99\u001b[0m     sampling_metadata,\n\u001b[1;32m    100\u001b[0m     sampling_tensors,\n\u001b[1;32m    101\u001b[0m     include_gpu_probs_tensor\u001b[39m=\u001b[39;49m\u001b[39mself\u001b[39;49m\u001b[39m.\u001b[39;49minclude_gpu_probs_tensor,\n\u001b[1;32m    102\u001b[0m     modify_greedy_probs\u001b[39m=\u001b[39;49m\u001b[39mself\u001b[39;49m\u001b[39m.\u001b[39;49m_should_modify_greedy_probs_inplace,\n\u001b[1;32m    103\u001b[0m )\n\u001b[1;32m    105\u001b[0m \u001b[39mif\u001b[39;00m \u001b[39mself\u001b[39m\u001b[39m.\u001b[39minclude_gpu_probs_tensor:\n",
      "File \u001b[0;32m/ssddata/tongyx/miniconda3/envs/agent-search/lib/python3.11/site-packages/vllm/model_executor/layers/sampler.py:655\u001b[0m, in \u001b[0;36m_sample\u001b[0;34m(probs, logprobs, sampling_metadata, sampling_tensors, include_gpu_probs_tensor, modify_greedy_probs)\u001b[0m\n\u001b[1;32m    643\u001b[0m \u001b[39m\u001b[39m\u001b[39m\"\"\"\u001b[39;00m\n\u001b[1;32m    644\u001b[0m \u001b[39mArgs:\u001b[39;00m\n\u001b[1;32m    645\u001b[0m \u001b[39m    probs: (num_query_tokens_in_batch, num_vocab)\u001b[39;00m\n\u001b[0;32m   (...)\u001b[0m\n\u001b[1;32m    653\u001b[0m \u001b[39m    sampled_token_ids_tensor: A tensor of sampled token ids.\u001b[39;00m\n\u001b[1;32m    654\u001b[0m \u001b[39m\"\"\"\u001b[39;00m\n\u001b[0;32m--> 655\u001b[0m \u001b[39mreturn\u001b[39;00m _sample_with_torch(\n\u001b[1;32m    656\u001b[0m     probs,\n\u001b[1;32m    657\u001b[0m     logprobs,\n\u001b[1;32m    658\u001b[0m     sampling_metadata,\n\u001b[1;32m    659\u001b[0m     include_gpu_probs_tensor\u001b[39m=\u001b[39;49minclude_gpu_probs_tensor,\n\u001b[1;32m    660\u001b[0m     modify_greedy_probs\u001b[39m=\u001b[39;49mmodify_greedy_probs,\n\u001b[1;32m    661\u001b[0m )\n",
      "File \u001b[0;32m/ssddata/tongyx/miniconda3/envs/agent-search/lib/python3.11/site-packages/vllm/model_executor/layers/sampler.py:544\u001b[0m, in \u001b[0;36m_sample_with_torch\u001b[0;34m(probs, logprobs, sampling_metadata, include_gpu_probs_tensor, modify_greedy_probs)\u001b[0m\n\u001b[1;32m    543\u001b[0m \u001b[39melif\u001b[39;00m sampling_type \u001b[39min\u001b[39;00m (SamplingType\u001b[39m.\u001b[39mRANDOM, SamplingType\u001b[39m.\u001b[39mRANDOM_SEED):\n\u001b[0;32m--> 544\u001b[0m     sample_results \u001b[39m=\u001b[39m _random_sample(seq_groups,\n\u001b[1;32m    545\u001b[0m                                     multinomial_samples[sampling_type])\n\u001b[1;32m    546\u001b[0m \u001b[39melif\u001b[39;00m sampling_type \u001b[39m==\u001b[39m SamplingType\u001b[39m.\u001b[39mBEAM:\n",
      "File \u001b[0;32m/ssddata/tongyx/miniconda3/envs/agent-search/lib/python3.11/site-packages/vllm/model_executor/layers/sampler.py:324\u001b[0m, in \u001b[0;36m_random_sample\u001b[0;34m(selected_seq_groups, random_samples)\u001b[0m\n\u001b[1;32m    323\u001b[0m \u001b[39m# Find the maximum best_of value of the prompt phase requests.\u001b[39;00m\n\u001b[0;32m--> 324\u001b[0m random_samples \u001b[39m=\u001b[39m random_samples\u001b[39m.\u001b[39;49mcpu()\n\u001b[1;32m    325\u001b[0m sample_idx \u001b[39m=\u001b[39m \u001b[39m0\u001b[39m\n",
      "\u001b[0;31mKeyboardInterrupt\u001b[0m: ",
      "\nDuring handling of the above exception, another exception occurred:\n",
      "\u001b[0;31mZeroDivisionError\u001b[0m                         Traceback (most recent call last)",
      "\u001b[1;32m/ssddata/tongyx/projects/agent-search/pipelines/search.ipynb Cell 12\u001b[0m line \u001b[0;36m4\n\u001b[1;32m     <a href='vscode-notebook-cell://ssh-remote%2B7b22686f73744e616d65223a22484b5553542d4e4c502d413830302d3830474278382d4e564c696e6b227d/ssddata/tongyx/projects/agent-search/pipelines/search.ipynb#X33sdnNjb2RlLXJlbW90ZQ%3D%3D?line=36'>37</a>\u001b[0m all_correct_idxs \u001b[39m=\u001b[39m \u001b[39msum\u001b[39m(domain_correct_idxs\u001b[39m.\u001b[39mvalues(), [])\n\u001b[1;32m     <a href='vscode-notebook-cell://ssh-remote%2B7b22686f73744e616d65223a22484b5553542d4e4c502d413830302d3830474278382d4e564c696e6b227d/ssddata/tongyx/projects/agent-search/pipelines/search.ipynb#X33sdnNjb2RlLXJlbW90ZQ%3D%3D?line=37'>38</a>\u001b[0m domain_correct_cnt \u001b[39m=\u001b[39m {k: \u001b[39mlen\u001b[39m(v) \u001b[39mfor\u001b[39;00m k, v \u001b[39min\u001b[39;00m domain_correct_idxs\u001b[39m.\u001b[39mitems()}\n\u001b[1;32m     <a href='vscode-notebook-cell://ssh-remote%2B7b22686f73744e616d65223a22484b5553542d4e4c502d413830302d3830474278382d4e564c696e6b227d/ssddata/tongyx/projects/agent-search/pipelines/search.ipynb#X33sdnNjb2RlLXJlbW90ZQ%3D%3D?line=39'>40</a>\u001b[0m metrics \u001b[39m=\u001b[39m {\n\u001b[1;32m     <a href='vscode-notebook-cell://ssh-remote%2B7b22686f73744e616d65223a22484b5553542d4e4c502d413830302d3830474278382d4e564c696e6b227d/ssddata/tongyx/projects/agent-search/pipelines/search.ipynb#X33sdnNjb2RlLXJlbW90ZQ%3D%3D?line=40'>41</a>\u001b[0m     \u001b[39m\"\u001b[39m\u001b[39msearch_cfg\u001b[39m\u001b[39m\"\u001b[39m: {\n\u001b[1;32m     <a href='vscode-notebook-cell://ssh-remote%2B7b22686f73744e616d65223a22484b5553542d4e4c502d413830302d3830474278382d4e564c696e6b227d/ssddata/tongyx/projects/agent-search/pipelines/search.ipynb#X33sdnNjb2RlLXJlbW90ZQ%3D%3D?line=41'>42</a>\u001b[0m         \u001b[39m*\u001b[39m\u001b[39m*\u001b[39m{k: v \u001b[39mfor\u001b[39;00m k, v \u001b[39min\u001b[39;00m search_cfg\u001b[39m.\u001b[39m\u001b[39m__dict__\u001b[39m\u001b[39m.\u001b[39mitems() \u001b[39mif\u001b[39;00m k \u001b[39m!=\u001b[39m \u001b[39m\"\u001b[39m\u001b[39msampling_params\u001b[39m\u001b[39m\"\u001b[39m},\n\u001b[1;32m     <a href='vscode-notebook-cell://ssh-remote%2B7b22686f73744e616d65223a22484b5553542d4e4c502d413830302d3830474278382d4e564c696e6b227d/ssddata/tongyx/projects/agent-search/pipelines/search.ipynb#X33sdnNjb2RlLXJlbW90ZQ%3D%3D?line=42'>43</a>\u001b[0m         \u001b[39m\"\u001b[39m\u001b[39msampling_params\u001b[39m\u001b[39m\"\u001b[39m: search_cfg\u001b[39m.\u001b[39msampling_params\u001b[39m.\u001b[39m\u001b[39m__repr__\u001b[39m(),\n\u001b[1;32m     <a href='vscode-notebook-cell://ssh-remote%2B7b22686f73744e616d65223a22484b5553542d4e4c502d413830302d3830474278382d4e564c696e6b227d/ssddata/tongyx/projects/agent-search/pipelines/search.ipynb#X33sdnNjb2RlLXJlbW90ZQ%3D%3D?line=43'>44</a>\u001b[0m     },\n\u001b[1;32m     <a href='vscode-notebook-cell://ssh-remote%2B7b22686f73744e616d65223a22484b5553542d4e4c502d413830302d3830474278382d4e564c696e6b227d/ssddata/tongyx/projects/agent-search/pipelines/search.ipynb#X33sdnNjb2RlLXJlbW90ZQ%3D%3D?line=44'>45</a>\u001b[0m     \u001b[39m\"\u001b[39m\u001b[39macc\u001b[39m\u001b[39m\"\u001b[39m: \u001b[39mlen\u001b[39m(all_correct_idxs) \u001b[39m/\u001b[39m \u001b[39mlen\u001b[39m(dset),\n\u001b[1;32m     <a href='vscode-notebook-cell://ssh-remote%2B7b22686f73744e616d65223a22484b5553542d4e4c502d413830302d3830474278382d4e564c696e6b227d/ssddata/tongyx/projects/agent-search/pipelines/search.ipynb#X33sdnNjb2RlLXJlbW90ZQ%3D%3D?line=45'>46</a>\u001b[0m     \u001b[39m\"\u001b[39m\u001b[39mdomain_correct_cnt\u001b[39m\u001b[39m\"\u001b[39m: domain_correct_cnt,\n\u001b[0;32m---> <a href='vscode-notebook-cell://ssh-remote%2B7b22686f73744e616d65223a22484b5553542d4e4c502d413830302d3830474278382d4e564c696e6b227d/ssddata/tongyx/projects/agent-search/pipelines/search.ipynb#X33sdnNjb2RlLXJlbW90ZQ%3D%3D?line=46'>47</a>\u001b[0m     \u001b[39m\"\u001b[39m\u001b[39mavg_time\u001b[39m\u001b[39m\"\u001b[39m: \u001b[39msum\u001b[39;49m(problem_times) \u001b[39m/\u001b[39;49m \u001b[39mlen\u001b[39;49m(problem_times),\n\u001b[1;32m     <a href='vscode-notebook-cell://ssh-remote%2B7b22686f73744e616d65223a22484b5553542d4e4c502d413830302d3830474278382d4e564c696e6b227d/ssddata/tongyx/projects/agent-search/pipelines/search.ipynb#X33sdnNjb2RlLXJlbW90ZQ%3D%3D?line=47'>48</a>\u001b[0m     \u001b[39m\"\u001b[39m\u001b[39mdomain_correct_idxs\u001b[39m\u001b[39m\"\u001b[39m: domain_correct_idxs,\n\u001b[1;32m     <a href='vscode-notebook-cell://ssh-remote%2B7b22686f73744e616d65223a22484b5553542d4e4c502d413830302d3830474278382d4e564c696e6b227d/ssddata/tongyx/projects/agent-search/pipelines/search.ipynb#X33sdnNjb2RlLXJlbW90ZQ%3D%3D?line=48'>49</a>\u001b[0m     \u001b[39m\"\u001b[39m\u001b[39mproblem_times\u001b[39m\u001b[39m\"\u001b[39m: problem_times,\n\u001b[1;32m     <a href='vscode-notebook-cell://ssh-remote%2B7b22686f73744e616d65223a22484b5553542d4e4c502d413830302d3830474278382d4e564c696e6b227d/ssddata/tongyx/projects/agent-search/pipelines/search.ipynb#X33sdnNjb2RlLXJlbW90ZQ%3D%3D?line=49'>50</a>\u001b[0m }\n\u001b[1;32m     <a href='vscode-notebook-cell://ssh-remote%2B7b22686f73744e616d65223a22484b5553542d4e4c502d413830302d3830474278382d4e564c696e6b227d/ssddata/tongyx/projects/agent-search/pipelines/search.ipynb#X33sdnNjb2RlLXJlbW90ZQ%3D%3D?line=51'>52</a>\u001b[0m \u001b[39mwith\u001b[39;00m \u001b[39mopen\u001b[39m(os\u001b[39m.\u001b[39mpath\u001b[39m.\u001b[39mjoin(test_dir, \u001b[39mf\u001b[39m\u001b[39m\"\u001b[39m\u001b[39mmetrics.json\u001b[39m\u001b[39m\"\u001b[39m), \u001b[39m\"\u001b[39m\u001b[39mw\u001b[39m\u001b[39m\"\u001b[39m) \u001b[39mas\u001b[39;00m f:\n\u001b[1;32m     <a href='vscode-notebook-cell://ssh-remote%2B7b22686f73744e616d65223a22484b5553542d4e4c502d413830302d3830474278382d4e564c696e6b227d/ssddata/tongyx/projects/agent-search/pipelines/search.ipynb#X33sdnNjb2RlLXJlbW90ZQ%3D%3D?line=52'>53</a>\u001b[0m     json\u001b[39m.\u001b[39mdump(metrics, f, ensure_ascii\u001b[39m=\u001b[39m\u001b[39mFalse\u001b[39;00m, indent\u001b[39m=\u001b[39m\u001b[39m2\u001b[39m)\n",
      "\u001b[0;31mZeroDivisionError\u001b[0m: division by zero"
     ]
    }
   ],
   "source": [
    "test_home = os.path.splitext(args.gen_dset_fpath)[0]\n",
    "test_timestamp = datetime.now().strftime(\"%Y%m%d-%H%M%S\")\n",
    "test_dir = os.path.join(test_home, f\"test-{test_timestamp}\")\n",
    "domain_correct_idxs = defaultdict(list)\n",
    "\n",
    "problem_times = []\n",
    "\n",
    "try:\n",
    "    for idx, dp in enumerate(dset[29:]):\n",
    "        search_timestamp = datetime.now().strftime(\"%Y%m%d-%H%M%S\")\n",
    "        # search_dir = os.path.join(seed_dir, f\"problem-{idx}-{search_timestamp}\")\n",
    "        search_dir = os.path.join(test_dir, f\"problem-{idx}-{search_timestamp}\")\n",
    "        print(f\"### {idx}\")\n",
    "        print(\"#### Problem\")\n",
    "        print(dp[\"query\"])\n",
    "        print(\"#### Solution\")\n",
    "        problem_start = time.time()\n",
    "        ans = agent.search(init_input=dp[\"query\"], output_dir=search_dir) % 1000\n",
    "        problem_time = time.time() - problem_start\n",
    "        problem_times.append(problem_time)\n",
    "        mod_ref_ans = dp[\"ref_ans\"] % 1000\n",
    "        eq = ans == mod_ref_ans\n",
    "        if eq and \"domain\" in dp:\n",
    "            domain_correct_idxs[dp[\"domain\"]].append(idx)\n",
    "        print(f\"Pred. ({ans}) {'=' if eq else '!'}= Ref. ({dp['ref_ans']} % 1000)\")\n",
    "        print(f\"Problem time: {problem_time:.2f}s\")\n",
    "        print(\n",
    "            f\"Avg. Time so far: {sum(problem_times)/len(problem_times):.2f}s (= {sum(problem_times):.2f} / {len(problem_times)})\"\n",
    "        )\n",
    "        all_correct_idxs = sum(domain_correct_idxs.values(), [])\n",
    "        print(\n",
    "            f\"Acc. so far: {len(all_correct_idxs) / (idx + 1):.2%} (= {len(all_correct_idxs)} / {idx + 1})\"\n",
    "        )\n",
    "except BaseException as e:\n",
    "    raise e\n",
    "finally:\n",
    "    all_correct_idxs = sum(domain_correct_idxs.values(), [])\n",
    "    domain_correct_cnt = {k: len(v) for k, v in domain_correct_idxs.items()}\n",
    "\n",
    "    metrics = {\n",
    "        \"search_cfg\": {\n",
    "            **{k: v for k, v in search_cfg.__dict__.items() if k != \"sampling_params\"},\n",
    "            \"sampling_params\": search_cfg.sampling_params.__repr__(),\n",
    "        },\n",
    "        \"acc\": len(all_correct_idxs) / len(dset),\n",
    "        \"domain_correct_cnt\": domain_correct_cnt,\n",
    "        \"avg_time\": sum(problem_times) / len(problem_times),\n",
    "        \"domain_correct_idxs\": domain_correct_idxs,\n",
    "        \"problem_times\": problem_times,\n",
    "    }\n",
    "\n",
    "    with open(os.path.join(test_dir, f\"metrics.json\"), \"w\") as f:\n",
    "        json.dump(metrics, f, ensure_ascii=False, indent=2)"
   ]
  }
 ],
 "metadata": {
  "kernelspec": {
   "display_name": "python3",
   "language": "python",
   "name": "python3"
  }
 },
 "nbformat": 4,
 "nbformat_minor": 2
}
