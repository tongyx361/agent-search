{
 "cells": [
  {
   "cell_type": "code",
   "execution_count": null,
   "metadata": {
    "tags": [
     "dev"
    ]
   },
   "outputs": [],
   "source": [
    "%load_ext autoreload\n",
    "%autoreload 2"
   ]
  },
  {
   "cell_type": "markdown",
   "metadata": {},
   "source": [
    "# Search for search strategies and hyper-parameters\n"
   ]
  },
  {
   "cell_type": "code",
   "execution_count": null,
   "metadata": {},
   "outputs": [],
   "source": [
    "import argparse\n",
    "import torch\n",
    "import json\n",
    "import os\n",
    "\n",
    "import time\n",
    "from collections import defaultdict\n",
    "from datetime import datetime\n",
    "from vllm import LLM, SamplingParams\n",
    "from transformers import set_seed\n",
    "\n",
    "from agent_search.agent import VLLMPythonMathAgent, AgentSearchCfg"
   ]
  },
  {
   "cell_type": "code",
   "execution_count": null,
   "metadata": {},
   "outputs": [],
   "source": [
    "GPU_DTYPE = torch.float16\n",
    "LOCAL_GPU_MEM_GB = 80\n",
    "os.environ[\"TOKENIZERS_PARALLELISM\"] = \"false\""
   ]
  },
  {
   "cell_type": "code",
   "execution_count": null,
   "metadata": {},
   "outputs": [],
   "source": [
    "parser = argparse.ArgumentParser(\n",
    "    description=\"Search for search strategies and hyper-parameters\", allow_abbrev=False\n",
    ")\n",
    "\n",
    "parser.add_argument(\n",
    "    \"--model_id_or_path\",\n",
    "    type=str,\n",
    "    default=\"deepseek-ai/deepseek-math-7b-rl\",\n",
    "    help=\"The HF model ID or path to the model\",\n",
    ")\n",
    "parser.add_argument(\n",
    "    \"--seed\",\n",
    "    type=int,\n",
    "    default=42,\n",
    "    help=\"The HF model ID or path to the model\",\n",
    ")\n",
    "parser.add_argument(\n",
    "    \"--gpu_mem_util\",\n",
    "    type=float,\n",
    "    default=0.9,\n",
    "    help=\"The fraction of GPU memory to use\",\n",
    ")\n",
    "parser.add_argument(\n",
    "    \"--gen_dset_fpath\",\n",
    "    type=str,\n",
    "    help=\"The path to the dataset to generate the search space from\",\n",
    ")\n",
    "\n",
    "parser.add_argument(\n",
    "    \"--temperature\",\n",
    "    type=float,\n",
    "    default=0.6,\n",
    "    help=\"The temperature to use for sampling\",\n",
    ")\n",
    "\n",
    "parser.add_argument(\n",
    "    \"--code_temperature\",\n",
    "    type=float,\n",
    "    default=0.6,\n",
    "    help=\"The temperature to use for sampling code\",\n",
    ")\n",
    "\n",
    "parser.add_argument(\n",
    "    \"--init_temperature\",\n",
    "    type=float,\n",
    "    default=1.0,\n",
    "    help=\"The temperature to use for init sampling\",\n",
    ")\n",
    "\n",
    "parser.add_argument(\n",
    "    \"--top_p\",\n",
    "    type=float,\n",
    "    default=0.95,\n",
    "    help=\"The top_p to use for sampling\",\n",
    ")\n",
    "\n",
    "parser.add_argument(\n",
    "    \"--allow_timeout\",\n",
    "    action=\"store_true\",\n",
    "    help=\"Whether to allow timeout when executing code\",\n",
    ")\n",
    "\n",
    "parser.add_argument(\n",
    "    \"--allow_err\",\n",
    "    action=\"store_true\",\n",
    "    help=\"Whether to allow errors when executing code\",\n",
    ")\n",
    "\n",
    "parser.add_argument(\n",
    "    \"--allow_empty_output\",\n",
    "    action=\"store_true\",\n",
    "    help=\"Whether to allow empty outputs when executing code\",\n",
    ")\n",
    "\n",
    "parser.add_argument(\n",
    "    \"--spec_neg\",\n",
    "    action=\"store_true\",\n",
    "    help=\"Whether to speculate negative answers\",\n",
    ")\n",
    "\n",
    "parser.add_argument(\n",
    "    \"--n_fin_ans\",\n",
    "    type=int,\n",
    "    default=8,\n",
    "    help=\"The number of answers to sample per problem\",\n",
    ")\n",
    "\n",
    "\n",
    "parser.add_argument(\n",
    "    \"--n_max_out_tok\",\n",
    "    type=int,\n",
    "    default=4096,\n",
    "    help=\"The maximum number of tokens to generate. Few completion are longer than 1024 tokens\",\n",
    ")\n",
    "\n",
    "parser.add_argument(\n",
    "    \"--n_max_tot_tok\",\n",
    "    type=int,\n",
    "    default=4096,\n",
    "    help=\"The maximum number of tokens to generate\",\n",
    ")\n",
    "\n",
    "parser.add_argument(\n",
    "    \"--n_init_gen\",\n",
    "    type=int,\n",
    "    default=1,\n",
    "    help=\"The number of init generations\",\n",
    ")\n",
    "\n",
    "parser.add_argument(\n",
    "    \"--n_init_sample\",\n",
    "    type=int,\n",
    "    default=16,\n",
    "    help=\"The number of samples when init sampling\",\n",
    ")\n",
    "\n",
    "parser.add_argument(\n",
    "    \"--n_max_sample\",\n",
    "    type=int,\n",
    "    default=64,\n",
    "    help=\"The maximum number of samples for trial per problem\",\n",
    ")\n",
    "\n",
    "parser.add_argument(\n",
    "    \"--beam_width\",\n",
    "    type=int,\n",
    "    default=1,\n",
    "    help=\"The beam width to use for sampling\",\n",
    ")\n",
    "\n",
    "parser.add_argument(\n",
    "    \"--n_max_call\",\n",
    "    type=int,\n",
    "    default=None,\n",
    "    help=\"DeepSeekMath-7B-RL usually can not correctly solve problems with more than 2 calls\",\n",
    ")\n",
    "\n",
    "parser.add_argument(\n",
    "    \"--instr\",\n",
    "    type=str,\n",
    "    default=\"The final answer must be a non-negative integer.\",\n",
    "    # default=\"\"\"To accomplish this, first determine a sympy-based approach for solving the problem by listing each step to take and what functions need to be called in each step.\n",
    "    # Be clear so even an idiot can follow your instructions.\n",
    "    # Write the entire script covering all the steps (use comments and document it well) and print the result.\n",
    "    # The intermediary calculations may be free-form, but the final answer should always be an non-negative integer.\n",
    "    # Your final answer should always be a non-negative integer, not an algebraic expression!\n",
    "    # Your final answer should always be a non-negative integer, not an algebraic expression!\n",
    "    # Your final answer should always be a non-negative integer, not an algebraic expression!\n",
    "    # After solving the problem, output the final answer within \\\\boxed{}.\"\"\",\n",
    "    help=\"The instruction to append to the problem.\",\n",
    ")\n",
    "\n",
    "parser.add_argument(\n",
    "    \"--rag\",\n",
    "    action=\"store_true\",\n",
    "    help=\"Whether to use RAG model for generation\",\n",
    ")\n",
    "\n",
    "args, _ = parser.parse_known_args()"
   ]
  },
  {
   "cell_type": "code",
   "execution_count": null,
   "metadata": {},
   "outputs": [],
   "source": [
    "set_seed(args.seed)"
   ]
  },
  {
   "cell_type": "code",
   "execution_count": null,
   "metadata": {},
   "outputs": [
    {
     "name": "stdout",
     "output_type": "stream",
     "text": [
      "### Problem 0\n",
      "#### Problem\n",
      "Let $ABCD$ be a unit square. Let $P$ be the point on $AB$ such that $|AP| = 1/{20}$ and let $Q$ be the point on $AD$ such that $|AQ| = 1/{24}$. The lines $DP$ and $BQ$ divide the square into four regions. Find the ratio between the areas of the largest region and the smallest region.\n",
      "#### Solution\n",
      "```python\n",
      "import numpy as np\n",
      "\n",
      "def area_ratio():\n",
      "    \"\"\"Let $ABCD$ be a unit square. Let $P$ be the point on $AB$ such that $|AP| = 1/{20}$ and let $Q$ be the point on $AD$ such that $|AQ| = 1/{24}$. The lines $DP$ and $BQ$ divide the square into four regions. Find the ratio between the areas of the largest region and the smallest region. The final answer must be a non-negative integer.\"\"\"\n",
      "    # Define points of the square\n",
      "    A = np.array([0, 0])\n",
      "    B = np.array([1, 0])\n",
      "    C = np.array([1, 1])\n",
      "    D = np.array([0, 1])\n",
      "    # Define points P and Q\n",
      "    P = np.array([1 / 20, 0])\n",
      "    Q = np.array([0, 1 / 24])\n",
      "    # Calculate intersection of DP and BQ\n",
      "    # Line DP: y = (1 - P[0]) / (P[1] - 1) * (x - P[0])\n",
      "    # Line BQ: y = Q[1] / (Q[0] - 1) * (x - Q[0]) + Q[1]\n",
      "    # Solving for x and y at intersection\n",
      "    # Line equations in the form ax + by = c\n",
      "    a1, b1, c1 = (\n",
      "        (D[1] - P[1]),\n",
      "        (P[0] - D[0]),\n",
      "        (D[1] - P[1]) * D[0] + (P[0] - D[0]) * D[1],\n",
      "    )\n",
      "    a2, b2, c2 = (\n",
      "        (Q[1] - B[1]),\n",
      "        (B[0] - Q[0]),\n",
      "        (Q[1] - B[1]) * B[0] + (B[0] - Q[0]) * B[1],\n",
      "    )\n",
      "    # Calculate determinant\n",
      "    det = a1 * b2 - a2 * b1\n",
      "    if det == 0:\n",
      "        return \"Lines are parallel\"\n",
      "    # Intersection point I\n",
      "    x = (c1 * b2 - c2 * b1) / det\n",
      "    y = (a1 * c2 - a2 * c1) / det\n",
      "    I = np.array([x, y])\n",
      "    # Define the four regions\n",
      "    regions = [[A, Q, I], [Q, D, I], [D, C, I], [C, B, I, P]]\n",
      "    # Calculate areas of the regions\n",
      "    def area(poly):\n",
      "        x = poly[:, 0]\n",
      "        y = poly[:, 1]\n",
      "        return 0.5 * np.abs(np.dot(x, np.roll(y, 1)) - np.dot(y, np.roll(x, 1)))\n",
      "    areas = [area(np.array(region)) for region in regions]\n",
      "    smallest_area = min(areas)\n",
      "    largest_area = max(areas)\n",
      "    # Calculate the ratio\n",
      "    ratio = largest_area / smallest_area\n",
      "\n",
      "    return ratio\n",
      "\n",
      "result = area_ratio()\n",
      "print(result)\n",
      "```\n",
      "\n",
      "```output\n",
      "480.00000000000006\n",
      "```\n",
      "\n",
      "The ratio between the areas of the largest region and the smallest region is $480$. The answer is $\\boxed{480}$.\n"
     ]
    }
   ],
   "source": [
    "ICL_EG_QA_MAP = {\n",
    "    r\"\"\"\n",
    "The points $\\left(x, y\\right)$ satisfying $((\\vert x + y \\vert - 10)^2 + ( \\vert x - y \\vert - 10)^2)((\\vert x \\vert - 8)^2 + ( \\vert y \\vert - 8)^2) = 0$ enclose a convex polygon.\n",
    "What is the area of this convex polygon?\n",
    "    \"\"\": r'''\n",
    "```python\n",
    "from sympy import symbols, Eq, solve\n",
    "\n",
    "def polygon_vertices():\n",
    "    \"\"\"The points $\\left(x, y\\right)$ satisfying $((\\vert x + y \\vert - 10)^2 + ( \\vert x - y \\vert - 10)^2)((\\vert x \\vert - 8)^2 + ( \\vert y \\vert - 8)^2) = 0$ enclose a convex polygon. What is the area of this convex polygon?\"\"\"\n",
    "    # Define the variables\n",
    "    x, y = symbols(\"x y\")\n",
    "    # Define the equations from the first factor\n",
    "    eq1_cases = [Eq(x + y, 10), Eq(x + y, -10)]\n",
    "    eq2_cases = [Eq(x - y, 10), Eq(x - y, -10)]\n",
    "    # Define the equations from the second factor\n",
    "    eq3_cases = [Eq(x, 8), Eq(x, -8)]\n",
    "    eq4_cases = [Eq(y, 8), Eq(y, -8)]\n",
    "    # Solve each combination of equations\n",
    "    solutions = []\n",
    "    # Solving combinations from the first factor\n",
    "    for eq1 in eq1_cases:\n",
    "        for eq2 in eq2_cases:\n",
    "            sol = solve([eq1, eq2], (x, y))\n",
    "            if sol:\n",
    "                solutions.append(sol)\n",
    "    # Solving combinations from the second factor\n",
    "    for eq3 in eq3_cases:\n",
    "        for eq4 in eq4_cases:\n",
    "            sol = solve([eq3, eq4], (x, y))\n",
    "            if sol:\n",
    "                solutions.append(sol)\n",
    "    # Extract unique solutions\n",
    "    unique_solutions = {tuple(sol.items()) for sol in solutions}\n",
    "    return unique_solutions\n",
    "\n",
    "result = polygon_vertices()\n",
    "print(result)\n",
    "```\n",
    "\n",
    "```output\n",
    "{((x, 10), (y, 0)), ((x, 0), (y, -10)), ((x, -8), (y, 8)), ((x, 8), (y, 8)), ((x, -10), (y, 0)), ((x, -8), (y, -8)), ((x, 8), (y, -8)), ((x, 0), (y, 10))}\n",
    "```\n",
    "\n",
    "Now we have the coordinates of all the vertices. To find the area of this polygon, we can use the Shoelace formula (Gauss's area formula for polygons): $\\text{Area} = \\frac{1}{2} \\left| \\sum_{i=1}^{n} (x_i y_{i+1} - y_i x_{i+1}) \\right|$\n",
    "\n",
    "```python\n",
    "def polygon_area():\n",
    "    # Reorder the vertices in a logical sequence\n",
    "    vertices_ordered = [(10, 0), (8, 8), (0, 10), (-8, 8), (-10, 0), (-8, -8), (0, -10), (8, -8)]\n",
    "    # Repeat the first vertex at the end\n",
    "    vertices = vertices_ordered + [vertices_ordered[0]]\n",
    "    # Calculate the area using the Shoelace formula\n",
    "    area = 0\n",
    "    for i in range(len(vertices) - 1):\n",
    "        area += (\n",
    "            vertices[i][0] * vertices[i + 1][1] - vertices[i + 1][0] * vertices[i][1]\n",
    "        )\n",
    "    return abs(area) / 2\n",
    "\n",
    "result = polygon_area()\n",
    "print(result)\n",
    "```\n",
    "\n",
    "```output\n",
    "320.0\n",
    "```\n",
    "\n",
    "Therefore, the area of the convex polygon is $320$. The answer is $\\boxed{320}$.\n",
    "''',\n",
    "}\n",
    "\n",
    "ICL_EG_QA_MAP = {\n",
    "    k.replace(\"\\n\", \" \").strip(): v.strip() for k, v in ICL_EG_QA_MAP.items()\n",
    "}\n",
    "for i, (q, a) in enumerate(ICL_EG_QA_MAP.items()):\n",
    "    print(f\"### Problem {i}\")\n",
    "    print(\"#### Problem\")\n",
    "    print(q)\n",
    "    print(\"#### Solution\")\n",
    "    print(a)"
   ]
  },
  {
   "cell_type": "code",
   "execution_count": null,
   "metadata": {
    "tags": [
     "dev"
    ]
   },
   "outputs": [],
   "source": [
    "os.environ[\"CUDA_VISIBLE_DEVICES\"] = \"0\"\n",
    "\n",
    "args.gen_dset_fpath = (\n",
    "    \"/ssddata/tongyx/projects/agent-search/data/iid_hardest_non_neg_int_ans_math.json\"\n",
    ")\n",
    "args.allow_timeout = True\n",
    "args.allow_err = True\n",
    "args.allow_empty_output = True\n",
    "\n",
    "args.rag = True\n",
    "\n",
    "args.gpu_mem_util *= 32 / LOCAL_GPU_MEM_GB"
   ]
  },
  {
   "cell_type": "code",
   "execution_count": null,
   "metadata": {},
   "outputs": [
    {
     "name": "stderr",
     "output_type": "stream",
     "text": [
      "/ssddata/tongyx/miniconda3/envs/agent-search/lib/python3.11/site-packages/huggingface_hub/file_download.py:1132: FutureWarning: `resume_download` is deprecated and will be removed in version 1.0.0. Downloads always resume when possible. If you want to force a new download, use `force_download=True`.\n",
      "  warnings.warn(\n"
     ]
    },
    {
     "name": "stdout",
     "output_type": "stream",
     "text": [
      "WARNING 06-26 22:05:18 config.py:1222] Casting torch.bfloat16 to torch.float16.\n",
      "INFO 06-26 22:05:18 llm_engine.py:161] Initializing an LLM engine (v0.5.0.post1) with config: model='deepseek-ai/deepseek-math-7b-rl', speculative_config=None, tokenizer='deepseek-ai/deepseek-math-7b-rl', skip_tokenizer_init=False, tokenizer_mode=auto, revision=None, rope_scaling=None, rope_theta=None, tokenizer_revision=None, trust_remote_code=True, dtype=torch.float16, max_seq_len=4096, download_dir=None, load_format=LoadFormat.AUTO, tensor_parallel_size=1, disable_custom_all_reduce=False, quantization=None, enforce_eager=False, kv_cache_dtype=auto, quantization_param_path=None, device_config=cuda, decoding_config=DecodingConfig(guided_decoding_backend='outlines'), seed=42, served_model_name=deepseek-ai/deepseek-math-7b-rl)\n"
     ]
    },
    {
     "name": "stderr",
     "output_type": "stream",
     "text": [
      "Special tokens have been added in the vocabulary, make sure the associated word embeddings are fine-tuned or trained.\n"
     ]
    },
    {
     "name": "stdout",
     "output_type": "stream",
     "text": [
      "INFO 06-26 22:05:19 weight_utils.py:218] Using model weights format ['*.safetensors']\n",
      "INFO 06-26 22:05:24 model_runner.py:160] Loading model weights took 12.8725 GB\n",
      "INFO 06-26 22:05:25 gpu_executor.py:83] # GPU blocks: 1982, # CPU blocks: 546\n",
      "INFO 06-26 22:05:30 model_runner.py:889] Capturing the model for CUDA graphs. This may lead to unexpected consequences if the model is not static. To run the model in eager mode, set 'enforce_eager=True' or use '--enforce-eager' in the CLI.\n",
      "INFO 06-26 22:05:30 model_runner.py:893] CUDA graphs can take additional 1~3 GiB memory per GPU. If you are running out of memory, consider decreasing `gpu_memory_utilization` or enforcing eager mode. You can also reduce the `max_num_seqs` as needed to decrease memory usage.\n",
      "INFO 06-26 22:05:35 model_runner.py:965] Graph capturing finished in 6 secs.\n"
     ]
    }
   ],
   "source": [
    "llm = LLM(\n",
    "    model=args.model_id_or_path,\n",
    "    tokenizer=args.model_id_or_path,\n",
    "    tensor_parallel_size=torch.cuda.device_count(),\n",
    "    dtype=GPU_DTYPE,\n",
    "    seed=args.seed,\n",
    "    trust_remote_code=True,\n",
    "    gpu_memory_utilization=args.gpu_mem_util,\n",
    "    # swap_space=args.gpu_mem_util * LOCAL_GPU_MEM_GB,\n",
    ")"
   ]
  },
  {
   "cell_type": "code",
   "execution_count": null,
   "metadata": {},
   "outputs": [
    {
     "name": "stdout",
     "output_type": "stream",
     "text": [
      "Loaded dataset with 151 problems\n"
     ]
    }
   ],
   "source": [
    "with open(args.gen_dset_fpath, \"r\") as f:\n",
    "    dset = json.load(f)\n",
    "print(f\"Loaded dataset with {len(dset)} problems\")"
   ]
  },
  {
   "cell_type": "code",
   "execution_count": null,
   "metadata": {},
   "outputs": [
    {
     "name": "stdout",
     "output_type": "stream",
     "text": [
      "sampling_params=SamplingParams(n=1, best_of=1, presence_penalty=0.0, frequency_penalty=0.0, repetition_penalty=1.0, temperature=0.6, top_p=0.95, top_k=-1, min_p=0.0, seed=42, use_beam_search=False, length_penalty=1.0, early_stopping=False, stop=[], stop_token_ids=[], include_stop_str_in_output=False, ignore_eos=False, max_tokens=4096, min_tokens=0, logprobs=2, prompt_logprobs=None, skip_special_tokens=True, spaces_between_special_tokens=True, truncate_prompt_tokens=None)\n",
      "search_cfg.__dict__={'sampling_params': SamplingParams(n=1, best_of=1, presence_penalty=0.0, frequency_penalty=0.0, repetition_penalty=1.0, temperature=0.6, top_p=0.95, top_k=-1, min_p=0.0, seed=42, use_beam_search=False, length_penalty=1.0, early_stopping=False, stop=[], stop_token_ids=[], include_stop_str_in_output=False, ignore_eos=False, max_tokens=4096, min_tokens=0, logprobs=2, prompt_logprobs=None, skip_special_tokens=True, spaces_between_special_tokens=True, truncate_prompt_tokens=None), 'n_fin_ans': 8, 'n_init_sample': 16, 'n_max_sample': 64, 'n_init_gen': 1, 'init_temperature': 1.0, 'code_temperature': 0.6, 'n_max_tot_tok': 4096, 'timeout': 5, 'n_max_call': None, 'allow_timeout': True, 'allow_err': True, 'allow_empty_output': True, 'spec_neg': False}\n"
     ]
    }
   ],
   "source": [
    "sampling_params = SamplingParams(\n",
    "    n=args.beam_width,\n",
    "    temperature=args.temperature,\n",
    "    top_p=args.top_p,\n",
    "    max_tokens=args.n_max_out_tok,\n",
    "    skip_special_tokens=True,\n",
    "    # prompt_logprobs=1,\n",
    "    logprobs=2,\n",
    "    seed=args.seed,\n",
    ")\n",
    "print(f\"{sampling_params=}\")\n",
    "search_cfg = AgentSearchCfg(\n",
    "    sampling_params=sampling_params,\n",
    "    n_fin_ans=args.n_fin_ans,\n",
    "    n_init_sample=args.n_init_sample,\n",
    "    n_max_sample=args.n_max_sample,\n",
    "    n_init_gen=args.n_init_gen,\n",
    "    init_temperature=args.init_temperature,\n",
    "    code_temperature=args.code_temperature,\n",
    "    n_max_tot_tok=args.n_max_tot_tok,\n",
    "    n_max_call=args.n_max_call,\n",
    "    allow_timeout=args.allow_timeout,\n",
    "    allow_err=args.allow_err,\n",
    "    allow_empty_output=args.allow_empty_output,\n",
    "    spec_neg=args.spec_neg,\n",
    ")\n",
    "print(f\"{search_cfg.__dict__=}\")\n",
    "\n",
    "\n",
    "agent = VLLMPythonMathAgent(\n",
    "    llm,\n",
    "    prompt_template=\"deepseekmath-tool\",\n",
    "    search_cfg=search_cfg,\n",
    "    code_cell_template=\"deepseekmath\",\n",
    "    rag_eg_qa_map=ICL_EG_QA_MAP if args.rag else None,\n",
    ")\n",
    "\n",
    "agent.ctx_template.prompt_template.prompt_after_query = (\n",
    "    \" \" + args.instr + agent.ctx_template.prompt_template.prompt_after_query\n",
    ")"
   ]
  },
  {
   "cell_type": "code",
   "execution_count": null,
   "metadata": {},
   "outputs": [
    {
     "name": "stdout",
     "output_type": "stream",
     "text": [
      "### 0\n",
      "#### Problem\n",
      "Suppose $a$ and $b$ are positive real numbers with $a > b$ and $ab = 8.$  Find the minimum value of $\\frac{a^2 + b^2}{a - b}.$\n",
      "#### Solution\n",
      "len(trajs)=1 * sampling_params.n=16 = 16 traj.s\n"
     ]
    },
    {
     "name": "stderr",
     "output_type": "stream",
     "text": [
      "Processed prompts:   0%|          | 0/1 [00:00<?, ?it/s, est. speed input: 0.00 toks/s, output: 0.00 toks/s]"
     ]
    },
    {
     "name": "stderr",
     "output_type": "stream",
     "text": [
      "Processed prompts: 100%|██████████| 1/1 [00:05<00:00,  5.48s/it, est. speed input: 187.46 toks/s, output: 845.94 toks/s]"
     ]
    },
    {
     "name": "stdout",
     "output_type": "stream",
     "text": [
      "After completion,       # of trajectories: finished: 0 | dropped: 0 | continue: 16\n",
      "After single selection, # of trajectories: finished: 0 | dropped: 0 | continue: 16\n",
      "After multi-selection,  # of trajectories: finished: 0 | dropped: 0 | continue: 16\n"
     ]
    },
    {
     "name": "stderr",
     "output_type": "stream",
     "text": [
      "\n",
      "Executing: 100%|██████████| 16/16 [00:04<00:00,  3.56it/s]\n"
     ]
    },
    {
     "name": "stdout",
     "output_type": "stream",
     "text": [
      "After execution, # of trajectories: finished: 0 | dropped: 0 | continue: 16\n",
      "len(trajs)=16 * sampling_params.n=1 = 16 traj.s\n"
     ]
    },
    {
     "name": "stderr",
     "output_type": "stream",
     "text": [
      "Processed prompts: 100%|██████████| 16/16 [00:43<00:00,  2.71s/it, est. speed input: 495.95 toks/s, output: 293.47 toks/s] "
     ]
    },
    {
     "name": "stdout",
     "output_type": "stream",
     "text": [
      "After completion,       # of trajectories: finished: 0 | dropped: 0 | continue: 16\n",
      "After single selection, # of trajectories: finished: 6 | dropped: 3 | continue: 7\n",
      "After multi-selection,  # of trajectories: finished: 6 | dropped: 3 | continue: 7\n"
     ]
    },
    {
     "name": "stderr",
     "output_type": "stream",
     "text": [
      "\n",
      "Executing: 100%|██████████| 7/7 [00:04<00:00,  1.73it/s]\n"
     ]
    },
    {
     "name": "stdout",
     "output_type": "stream",
     "text": [
      "After execution, # of trajectories: finished: 6 | dropped: 3 | continue: 7\n",
      "len(trajs)=7 * sampling_params.n=1 = 7 traj.s\n"
     ]
    },
    {
     "name": "stderr",
     "output_type": "stream",
     "text": [
      "Processed prompts: 100%|██████████| 7/7 [00:06<00:00,  1.06it/s, est. speed input: 1755.26 toks/s, output: 163.52 toks/s]\n"
     ]
    },
    {
     "name": "stdout",
     "output_type": "stream",
     "text": [
      "After completion,       # of trajectories: finished: 6 | dropped: 3 | continue: 7\n",
      "After single selection, # of trajectories: finished: 8 | dropped: 3 | continue: 5\n",
      "After multi-selection,  # of trajectories: finished: 8 | dropped: 3 | continue: 5\n",
      "ans2tok_avg_prob=defaultdict(<class 'list'>, {18: [0.8389669786233007, 0.9166454608881364, 0.9507009586102121], 8: [0.9893709467212803, 0.9787260923131383, 0.9708379501237893, 0.9745693668277444], 5: [0.7892704505244805]})\n",
      "sorted_ans2agg_tok_avg_prob=[(8, 3.9135043559859524), (18, 2.706313398121649), (5, 0.7892704505244805)] -> fin_ans=8\n",
      "Pred. (8) == Ref. (8)\n",
      "Problem time: 65.78s\n",
      "Avg. Time so far: 65.78s (= 65.78 / 1)\n",
      "Acc. so far: 100.00% (= 1 / 1)\n",
      "### 1\n",
      "#### Problem\n",
      "If $f(x)$, whose graph is shown below, is defined on $1 \\le x \\le 6$, what is the maximum value of $f^{-1}(x)$? [asy]\n",
      "\n",
      "import graph; size(7.94cm); real lsf=0.5; pen dps=linewidth(0.7)+fontsize(10); defaultpen(dps); pen ds=black; real xmin=-0.96,xmax=8.96,ymin=-2.66,ymax=4.38;\n",
      "\n",
      "Label laxis; laxis.p=fontsize(10);\n",
      "\n",
      "xaxis(\"$x$\",-0.96,8.96,Ticks(laxis,Step=1.0,Size=2,OmitTick(0)),Arrows(6),above=true); yaxis(\"$y$\",-2.66,4.38,Ticks(laxis,Step=1.0,Size=2,OmitTick(0)),Arrows(6),above=true); draw((1,2)--(3,0),linewidth(1.2)); draw((3,3)--(5,2),linewidth(1.2)); draw((5,-2)--(6,0),linewidth(1.2)); filldraw(circle((5,-2),0.08),white); label(\"$ f(x) $\",(0.5,4.3),SE*lsf);\n",
      "\n",
      "dot((3,0),UnFill(0)); dot((1,2)); dot((3,3)); dot((5,2),ds); dot((6,0));\n",
      "\n",
      "clip((xmin,ymin)--(xmin,ymax)--(xmax,ymax)--(xmax,ymin)--cycle);\n",
      "\n",
      "[/asy]\n",
      "#### Solution\n",
      "len(trajs)=1 * sampling_params.n=16 = 16 traj.s\n"
     ]
    },
    {
     "name": "stderr",
     "output_type": "stream",
     "text": [
      "Processed prompts: 100%|██████████| 1/1 [00:09<00:00,  9.28s/it, est. speed input: 148.05 toks/s, output: 836.34 toks/s]"
     ]
    },
    {
     "name": "stdout",
     "output_type": "stream",
     "text": [
      "After completion,       # of trajectories: finished: 0 | dropped: 0 | continue: 16\n",
      "After single selection, # of trajectories: finished: 1 | dropped: 0 | continue: 15\n",
      "After multi-selection,  # of trajectories: finished: 1 | dropped: 0 | continue: 15\n"
     ]
    },
    {
     "name": "stderr",
     "output_type": "stream",
     "text": [
      "\n",
      "Executing: 100%|██████████| 15/15 [00:00<00:00, 301.35it/s]\n"
     ]
    },
    {
     "name": "stdout",
     "output_type": "stream",
     "text": [
      "After execution, # of trajectories: finished: 1 | dropped: 0 | continue: 15\n",
      "len(trajs)=15 * sampling_params.n=1 = 15 traj.s\n"
     ]
    },
    {
     "name": "stderr",
     "output_type": "stream",
     "text": [
      "Processed prompts: 100%|██████████| 15/15 [00:02<00:00,  6.18it/s, est. speed input: 11510.24 toks/s, output: 148.41 toks/s]\n"
     ]
    },
    {
     "name": "stdout",
     "output_type": "stream",
     "text": [
      "After completion,       # of trajectories: finished: 1 | dropped: 0 | continue: 15\n",
      "After single selection, # of trajectories: finished: 16 | dropped: 0 | continue: 0\n",
      "After multi-selection,  # of trajectories: finished: 16 | dropped: 0 | continue: 0\n",
      "ans2tok_avg_prob=defaultdict(<class 'list'>, {5: [0.8793645505429308, 0.9768417643902756, 0.9784069777061792], 3: [0.969654307922498, 0.9720533671141908, 0.9756380231001192, 0.9840014616688503, 0.9888450252234219, 0.9879715711530092, 0.9886018361598493, 0.9832731364418864, 0.9809245226678402, 0.9704903135947331, 0.9764445152415129, 0.9732775391190699], 6: [0.9807452928118641]})\n",
      "sorted_ans2agg_tok_avg_prob=[(3, 11.75117561940698), (5, 2.8346132926393857), (6, 0.9807452928118641)] -> fin_ans=3\n",
      "Pred. (3) != Ref. (6)\n",
      "Problem time: 12.15s\n",
      "Avg. Time so far: 38.96s (= 77.93 / 2)\n",
      "Acc. so far: 50.00% (= 1 / 2)\n",
      "### 2\n",
      "#### Problem\n",
      "Let $a,$ $b,$ and $c$ be distinct real numbers.  Find the degree of the polynomial\n",
      "\\[p(x) = \\frac{(x - b)(x - c)}{(a - b)(a - c)} + \\frac{(x - a)(x - c)}{(b - a)(b - c)} + \\frac{(x - a)(x - b)}{(c - a)(c - b)}.\\]\n",
      "#### Solution\n",
      "len(trajs)=1 * sampling_params.n=16 = 16 traj.s\n"
     ]
    },
    {
     "name": "stderr",
     "output_type": "stream",
     "text": [
      "Processed prompts: 100%|██████████| 1/1 [00:04<00:00,  4.42s/it, est. speed input: 242.14 toks/s, output: 836.84 toks/s]"
     ]
    },
    {
     "name": "stdout",
     "output_type": "stream",
     "text": [
      "After completion,       # of trajectories: finished: 0 | dropped: 0 | continue: 16\n",
      "After single selection, # of trajectories: finished: 2 | dropped: 0 | continue: 14\n",
      "After multi-selection,  # of trajectories: finished: 2 | dropped: 0 | continue: 14\n"
     ]
    },
    {
     "name": "stderr",
     "output_type": "stream",
     "text": [
      "\n",
      "Executing: 100%|██████████| 14/14 [00:00<00:00, 19.79it/s]\n"
     ]
    },
    {
     "name": "stdout",
     "output_type": "stream",
     "text": [
      "After execution, # of trajectories: finished: 2 | dropped: 0 | continue: 14\n",
      "len(trajs)=14 * sampling_params.n=1 = 14 traj.s\n"
     ]
    },
    {
     "name": "stderr",
     "output_type": "stream",
     "text": [
      "Processed prompts: 100%|██████████| 14/14 [00:06<00:00,  2.25it/s, est. speed input: 2989.19 toks/s, output: 227.43 toks/s]\n"
     ]
    },
    {
     "name": "stdout",
     "output_type": "stream",
     "text": [
      "After completion,       # of trajectories: finished: 2 | dropped: 0 | continue: 14\n",
      "After single selection, # of trajectories: finished: 15 | dropped: 0 | continue: 1\n",
      "After multi-selection,  # of trajectories: finished: 15 | dropped: 0 | continue: 1\n",
      "ans2tok_avg_prob=defaultdict(<class 'list'>, {1: [0.7156893929731961, 0.7524068850951818, 0.7442906931830023, 0.9327018712871544, 0.8850735487287252], 2: [0.8402308349648631, 0.8987274901593588, 0.9299886053445137, 0.844788006870976, 0.8959512551503738, 0.9317633417838372, 0.9224508111354368, 0.8236884782298348, 0.9214658807506991, 0.8115033479299575]})\n",
      "sorted_ans2agg_tok_avg_prob=[(2, 8.82055805231985), (1, 4.030162391267259)] -> fin_ans=2\n",
      "Pred. (2) != Ref. (0)\n",
      "Problem time: 12.19s\n",
      "Avg. Time so far: 30.04s (= 90.12 / 3)\n",
      "Acc. so far: 33.33% (= 1 / 3)\n",
      "### 3\n",
      "#### Problem\n",
      "Find the smallest positive integer $n$ such that there exists $r \\in (0, \\tfrac{1}{1000})$ such that the number $(n+r)^3$ is an integer.\n",
      "#### Solution\n",
      "len(trajs)=1 * sampling_params.n=16 = 16 traj.s\n"
     ]
    },
    {
     "name": "stderr",
     "output_type": "stream",
     "text": [
      "Processed prompts: 100%|██████████| 1/1 [00:06<00:00,  6.74s/it, est. speed input: 151.87 toks/s, output: 676.90 toks/s]"
     ]
    },
    {
     "name": "stdout",
     "output_type": "stream",
     "text": [
      "After completion,       # of trajectories: finished: 0 | dropped: 0 | continue: 16\n",
      "After single selection, # of trajectories: finished: 0 | dropped: 0 | continue: 16\n",
      "After multi-selection,  # of trajectories: finished: 0 | dropped: 0 | continue: 16\n"
     ]
    },
    {
     "name": "stderr",
     "output_type": "stream",
     "text": [
      "\n",
      "Executing: 100%|██████████| 16/16 [00:05<00:00,  2.85it/s]\n"
     ]
    },
    {
     "name": "stdout",
     "output_type": "stream",
     "text": [
      "After execution, # of trajectories: finished: 0 | dropped: 0 | continue: 16\n",
      "len(trajs)=16 * sampling_params.n=1 = 16 traj.s\n"
     ]
    },
    {
     "name": "stderr",
     "output_type": "stream",
     "text": [
      "Processed prompts: 100%|██████████| 16/16 [00:08<00:00,  1.89it/s, est. speed input: 2498.26 toks/s, output: 367.67 toks/s]\n"
     ]
    },
    {
     "name": "stdout",
     "output_type": "stream",
     "text": [
      "After completion,       # of trajectories: finished: 0 | dropped: 0 | continue: 16\n",
      "After single selection, # of trajectories: finished: 12 | dropped: 0 | continue: 4\n",
      "After multi-selection,  # of trajectories: finished: 12 | dropped: 0 | continue: 4\n",
      "ans2tok_avg_prob=defaultdict(<class 'list'>, {17146: [0.9973095459759531], 7: [0.9069285940567761, 0.948087055705256, 0.9472575216932998, 0.8386003300932895, 0.9514657190251148], 1: [0.9925245500815543, 0.9957095059377339, 0.9684953703213288, 0.892216656876095, 0.9926951541652946], 9: [0.9483248084110646]})\n",
      "sorted_ans2agg_tok_avg_prob=[(1, 4.841641237382007), (7, 4.592339220573736), (17146, 0.9973095459759531), (9, 0.9483248084110646)] -> fin_ans=1\n",
      "Pred. (1) != Ref. (19)\n",
      "Problem time: 21.49s\n",
      "Avg. Time so far: 27.90s (= 111.61 / 4)\n",
      "Acc. so far: 25.00% (= 1 / 4)\n",
      "### 4\n",
      "#### Problem\n",
      "The four-digit number $25AB$ is divisible by nine, with $A$ the tens digit and $B$ the units digit. How many different such four-digit numbers could $25AB$ represent?\n",
      "#### Solution\n",
      "len(trajs)=1 * sampling_params.n=16 = 16 traj.s\n"
     ]
    },
    {
     "name": "stderr",
     "output_type": "stream",
     "text": [
      "Processed prompts: 100%|██████████| 1/1 [00:03<00:00,  3.25s/it, est. speed input: 316.07 toks/s, output: 811.11 toks/s]"
     ]
    },
    {
     "name": "stdout",
     "output_type": "stream",
     "text": [
      "After completion,       # of trajectories: finished: 0 | dropped: 0 | continue: 16\n",
      "After single selection, # of trajectories: finished: 0 | dropped: 0 | continue: 16\n",
      "After multi-selection,  # of trajectories: finished: 0 | dropped: 0 | continue: 16\n"
     ]
    },
    {
     "name": "stderr",
     "output_type": "stream",
     "text": [
      "\n",
      "Executing: 100%|██████████| 16/16 [00:00<00:00, 27.84it/s]\n"
     ]
    },
    {
     "name": "stdout",
     "output_type": "stream",
     "text": [
      "After execution, # of trajectories: finished: 0 | dropped: 0 | continue: 16\n",
      "len(trajs)=16 * sampling_params.n=1 = 16 traj.s\n"
     ]
    },
    {
     "name": "stderr",
     "output_type": "stream",
     "text": [
      "Processed prompts: 100%|██████████| 16/16 [00:02<00:00,  7.80it/s, est. speed input: 9346.05 toks/s, output: 264.85 toks/s]\n"
     ]
    },
    {
     "name": "stdout",
     "output_type": "stream",
     "text": [
      "After completion,       # of trajectories: finished: 0 | dropped: 0 | continue: 16\n",
      "After single selection, # of trajectories: finished: 16 | dropped: 0 | continue: 0\n",
      "After multi-selection,  # of trajectories: finished: 16 | dropped: 0 | continue: 0\n",
      "ans2tok_avg_prob=defaultdict(<class 'list'>, {11: [0.9950227988670534, 0.9950227988670534, 0.9937649750834674, 0.9012079577939697, 0.8352117288673242, 0.8352117288673242, 0.9923779718262087, 0.9927673479274142, 0.9912373203333409, 0.9950961548718285, 0.9928236807232774, 0.9921862079374711, 0.9964716650795776, 0.9938409084187336, 0.99103050087723, 0.7829097352827475]})\n",
      "sorted_ans2agg_tok_avg_prob=[(11, 15.27618348162402)] -> fin_ans=11\n",
      "Pred. (11) == Ref. (11)\n",
      "Problem time: 6.24s\n",
      "Avg. Time so far: 23.57s (= 117.84 / 5)\n",
      "Acc. so far: 40.00% (= 2 / 5)\n",
      "### 5\n",
      "#### Problem\n",
      "I have two arithmetic sequences. The first term of the first sequence is $0$. The second term of the first sequence is the first term of the first sequence plus the first term of the second sequence. Similarly, the third term of the first sequence is the second term of the first sequence plus the second term of the second sequence. If the fifth term of the second sequence is $3$, what is the fifth term of the first sequence?\n",
      "#### Solution\n",
      "len(trajs)=1 * sampling_params.n=16 = 16 traj.s\n"
     ]
    },
    {
     "name": "stderr",
     "output_type": "stream",
     "text": [
      "Processed prompts: 100%|██████████| 1/1 [00:39<00:00, 39.09s/it, est. speed input: 27.35 toks/s, output: 247.11 toks/s]"
     ]
    },
    {
     "name": "stdout",
     "output_type": "stream",
     "text": [
      "After completion,       # of trajectories: finished: 0 | dropped: 0 | continue: 16\n",
      "After single selection, # of trajectories: finished: 0 | dropped: 1 | continue: 15\n",
      "After multi-selection,  # of trajectories: finished: 0 | dropped: 1 | continue: 15\n"
     ]
    },
    {
     "name": "stderr",
     "output_type": "stream",
     "text": [
      "\n",
      "Executing: 100%|██████████| 15/15 [00:00<00:00, 25.66it/s]\n"
     ]
    },
    {
     "name": "stdout",
     "output_type": "stream",
     "text": [
      "After execution, # of trajectories: finished: 0 | dropped: 1 | continue: 15\n",
      "len(trajs)=15 * sampling_params.n=1 = 15 traj.s\n"
     ]
    },
    {
     "name": "stderr",
     "output_type": "stream",
     "text": [
      "Processed prompts: 100%|██████████| 15/15 [00:40<00:00,  2.72s/it, est. speed input: 560.26 toks/s, output: 275.25 toks/s] \n"
     ]
    },
    {
     "name": "stdout",
     "output_type": "stream",
     "text": [
      "After completion,       # of trajectories: finished: 0 | dropped: 1 | continue: 15\n",
      "After single selection, # of trajectories: finished: 13 | dropped: 3 | continue: 0\n",
      "After multi-selection,  # of trajectories: finished: 13 | dropped: 3 | continue: 0\n",
      "ans2tok_avg_prob=defaultdict(<class 'list'>, {9: [0.9915495560628245], 3: [0.9159044781533415, 0.9595200450450888, 0.8167765573692837, 0.8335565343346075, 0.9783537402436743, 0.6770810207263254], 6: [0.8847653078401057, 0.8958603733035883], 12: [0.9918630742842286], 1: [0.9332032498385547], 2: [0.9272441542444555], 15: [0.9233172833985136]})\n",
      "sorted_ans2agg_tok_avg_prob=[(3, 5.181192375872321), (6, 1.780625681143694), (12, 0.9918630742842286), (9, 0.9915495560628245), (1, 0.9332032498385547), (2, 0.9272441542444555), (15, 0.9233172833985136)] -> fin_ans=3\n",
      "Pred. (3) != Ref. (12)\n",
      "Problem time: 81.13s\n",
      "Avg. Time so far: 33.16s (= 198.98 / 6)\n",
      "Acc. so far: 33.33% (= 2 / 6)\n",
      "### 6\n",
      "#### Problem\n",
      "Let\n",
      "\\[x^8 + 98x^4 + 1 = p(x) q(x),\\]where $p(x)$ and $q(x)$ are monic, non-constant polynomials with integer coefficients.  Find $p(1) + q(1).$\n",
      "#### Solution\n",
      "len(trajs)=1 * sampling_params.n=16 = 16 traj.s\n"
     ]
    },
    {
     "name": "stderr",
     "output_type": "stream",
     "text": [
      "Processed prompts: 100%|██████████| 1/1 [00:04<00:00,  4.41s/it, est. speed input: 236.67 toks/s, output: 854.91 toks/s]"
     ]
    },
    {
     "name": "stdout",
     "output_type": "stream",
     "text": [
      "After completion,       # of trajectories: finished: 0 | dropped: 0 | continue: 16\n",
      "After single selection, # of trajectories: finished: 0 | dropped: 0 | continue: 16\n",
      "After multi-selection,  # of trajectories: finished: 0 | dropped: 0 | continue: 16\n"
     ]
    },
    {
     "name": "stderr",
     "output_type": "stream",
     "text": [
      "\n",
      "Executing: 100%|██████████| 16/16 [00:00<00:00, 258.20it/s]\n"
     ]
    },
    {
     "name": "stdout",
     "output_type": "stream",
     "text": [
      "After execution, # of trajectories: finished: 0 | dropped: 0 | continue: 16\n",
      "len(trajs)=16 * sampling_params.n=1 = 16 traj.s\n"
     ]
    },
    {
     "name": "stderr",
     "output_type": "stream",
     "text": [
      "Processed prompts: 100%|██████████| 16/16 [00:01<00:00,  8.30it/s, est. speed input: 10670.70 toks/s, output: 232.49 toks/s]\n"
     ]
    },
    {
     "name": "stdout",
     "output_type": "stream",
     "text": [
      "After completion,       # of trajectories: finished: 0 | dropped: 0 | continue: 16\n",
      "After single selection, # of trajectories: finished: 16 | dropped: 0 | continue: 0\n",
      "After multi-selection,  # of trajectories: finished: 16 | dropped: 0 | continue: 0\n",
      "ans2tok_avg_prob=defaultdict(<class 'list'>, {20: [0.9816965571851494, 0.9632492811021509, 0.9898536625984343, 0.9805986846638503, 0.967383981024876, 0.9812027586098919, 0.9654137306405626, 0.9697689260526788, 0.9733874702517687, 0.9757432025484618, 0.9736935629146422, 0.9789894229092315, 0.9799756134064459, 0.9530886456701233, 0.9642168867907362, 0.974056947445252]})\n",
      "sorted_ans2agg_tok_avg_prob=[(20, 15.572319333814253)] -> fin_ans=20\n",
      "Pred. (20) == Ref. (20)\n",
      "Problem time: 6.97s\n",
      "Avg. Time so far: 29.42s (= 205.95 / 7)\n",
      "Acc. so far: 42.86% (= 3 / 7)\n",
      "### 7\n",
      "#### Problem\n",
      "Let $a,$ $b,$ and $c$ be real numbers such that $ab + ac + bc = 0$ and $(a + b + c + 1)^2 = abc.$  Find all possible values of\n",
      "\\[(ab - c)(ac - b)(bc - a).\\]Enter the possible values, separated by commas.  For example, if you think the possible values are 3, 4, and 5, enter \"3, 4, 5\", without the quotation marks.\n",
      "#### Solution\n",
      "len(trajs)=1 * sampling_params.n=16 = 16 traj.s\n"
     ]
    },
    {
     "name": "stderr",
     "output_type": "stream",
     "text": [
      "Processed prompts: 100%|██████████| 1/1 [00:09<00:00,  9.42s/it, est. speed input: 115.42 toks/s, output: 663.72 toks/s]"
     ]
    },
    {
     "name": "stdout",
     "output_type": "stream",
     "text": [
      "After completion,       # of trajectories: finished: 0 | dropped: 0 | continue: 16\n",
      "After single selection, # of trajectories: finished: 1 | dropped: 0 | continue: 15\n",
      "After multi-selection,  # of trajectories: finished: 1 | dropped: 0 | continue: 15\n"
     ]
    },
    {
     "name": "stderr",
     "output_type": "stream",
     "text": [
      "\n",
      "Executing: 100%|██████████| 15/15 [00:05<00:00,  2.67it/s]\n"
     ]
    },
    {
     "name": "stdout",
     "output_type": "stream",
     "text": [
      "After execution, # of trajectories: finished: 1 | dropped: 0 | continue: 15\n",
      "len(trajs)=15 * sampling_params.n=1 = 15 traj.s\n"
     ]
    },
    {
     "name": "stderr",
     "output_type": "stream",
     "text": [
      "Processed prompts:  80%|████████  | 12/15 [00:08<00:02,  1.36it/s, est. speed input: 2110.88 toks/s, output: 236.93 toks/s]"
     ]
    }
   ],
   "source": [
    "test_home = os.path.splitext(args.gen_dset_fpath)[0]\n",
    "test_timestamp = datetime.now().strftime(\"%Y%m%d-%H%M%S\")\n",
    "test_dir = os.path.join(test_home, f\"test-{test_timestamp}\")\n",
    "domain_correct_idxs = defaultdict(list)\n",
    "\n",
    "problem_times = []\n",
    "\n",
    "try:\n",
    "    for idx, dp in enumerate(dset):\n",
    "        search_timestamp = datetime.now().strftime(\"%Y%m%d-%H%M%S\")\n",
    "        # search_dir = os.path.join(seed_dir, f\"problem-{idx}-{search_timestamp}\")\n",
    "        search_dir = os.path.join(test_dir, f\"problem-{idx}-{search_timestamp}\")\n",
    "        print(f\"### {idx}\")\n",
    "        print(\"#### Problem\")\n",
    "        print(dp[\"query\"])\n",
    "        print(\"#### Solution\")\n",
    "        problem_start = time.time()\n",
    "        ans = agent.search(init_input=dp[\"query\"], output_dir=search_dir)\n",
    "        problem_time = time.time() - problem_start\n",
    "        problem_times.append(problem_time)\n",
    "        eq = agent.eq(ans, dp[\"ref_ans\"])\n",
    "        if eq and \"domain\" in dp:\n",
    "            domain_correct_idxs[dp[\"domain\"]].append(idx)\n",
    "        print(f\"Pred. ({ans}) {'=' if eq else '!'}= Ref. ({dp['ref_ans']})\")\n",
    "        print(f\"Problem time: {problem_time:.2f}s\")\n",
    "        print(\n",
    "            f\"Avg. Time so far: {sum(problem_times)/len(problem_times):.2f}s (= {sum(problem_times):.2f} / {len(problem_times)})\"\n",
    "        )\n",
    "        all_correct_idxs = sum(domain_correct_idxs.values(), [])\n",
    "        print(\n",
    "            f\"Acc. so far: {len(all_correct_idxs) / (idx + 1):.2%} (= {len(all_correct_idxs)} / {idx + 1})\"\n",
    "        )\n",
    "except BaseException as e:\n",
    "    raise e\n",
    "finally:\n",
    "    all_correct_idxs = sum(domain_correct_idxs.values(), [])\n",
    "    domain_correct_cnt = {k: len(v) for k, v in domain_correct_idxs.items()}\n",
    "\n",
    "    metrics = {\n",
    "        \"search_cfg\": {\n",
    "            **{k: v for k, v in search_cfg.__dict__.items() if k != \"sampling_params\"},\n",
    "            \"sampling_params\": search_cfg.sampling_params.__repr__(),\n",
    "        },\n",
    "        \"acc\": len(all_correct_idxs) / len(dset),\n",
    "        \"domain_correct_cnt\": domain_correct_cnt,\n",
    "        \"avg_time\": sum(problem_times) / len(problem_times),\n",
    "        \"domain_correct_idxs\": domain_correct_idxs,\n",
    "        \"problem_times\": problem_times,\n",
    "    }\n",
    "\n",
    "    with open(os.path.join(test_dir, f\"metrics.json\"), \"w\") as f:\n",
    "        json.dump(metrics, f, ensure_ascii=False, indent=2)"
   ]
  }
 ],
 "metadata": {
  "kernelspec": {
   "display_name": "python3",
   "language": "python",
   "name": "python3"
  }
 },
 "nbformat": 4,
 "nbformat_minor": 2
}
